{
 "cells": [
  {
   "cell_type": "code",
   "execution_count": 1,
   "id": "899d8370",
   "metadata": {},
   "outputs": [],
   "source": [
    "import pandas as pd\n",
    "import matplotlib.pyplot as plt\n",
    "import string"
   ]
  },
  {
   "cell_type": "code",
   "execution_count": 2,
   "id": "f9dd1854",
   "metadata": {},
   "outputs": [],
   "source": [
    "data=pd.read_csv('uncleaned_ds.csv',delimiter=',')"
   ]
  },
  {
   "cell_type": "code",
   "execution_count": 3,
   "id": "63000cdf",
   "metadata": {
    "scrolled": true
   },
   "outputs": [
    {
     "data": {
      "text/html": [
       "<div>\n",
       "<style scoped>\n",
       "    .dataframe tbody tr th:only-of-type {\n",
       "        vertical-align: middle;\n",
       "    }\n",
       "\n",
       "    .dataframe tbody tr th {\n",
       "        vertical-align: top;\n",
       "    }\n",
       "\n",
       "    .dataframe thead th {\n",
       "        text-align: right;\n",
       "    }\n",
       "</style>\n",
       "<table border=\"1\" class=\"dataframe\">\n",
       "  <thead>\n",
       "    <tr style=\"text-align: right;\">\n",
       "      <th></th>\n",
       "      <th>index</th>\n",
       "      <th>Job Title</th>\n",
       "      <th>Salary Estimate</th>\n",
       "      <th>Job Description</th>\n",
       "      <th>Rating</th>\n",
       "      <th>Company Name</th>\n",
       "      <th>Location</th>\n",
       "      <th>Headquarters</th>\n",
       "      <th>Size</th>\n",
       "      <th>Founded</th>\n",
       "      <th>Type of ownership</th>\n",
       "      <th>Industry</th>\n",
       "      <th>Sector</th>\n",
       "      <th>Revenue</th>\n",
       "      <th>Competitors</th>\n",
       "    </tr>\n",
       "  </thead>\n",
       "  <tbody>\n",
       "    <tr>\n",
       "      <th>0</th>\n",
       "      <td>0</td>\n",
       "      <td>Sr Data Scientist</td>\n",
       "      <td>$137K-$171K (Glassdoor est.)</td>\n",
       "      <td>Description\\n\\nThe Senior Data Scientist is re...</td>\n",
       "      <td>3.1</td>\n",
       "      <td>Healthfirst\\n3.1</td>\n",
       "      <td>New York, NY</td>\n",
       "      <td>New York, NY</td>\n",
       "      <td>1001 to 5000 employees</td>\n",
       "      <td>1993</td>\n",
       "      <td>Nonprofit Organization</td>\n",
       "      <td>Insurance Carriers</td>\n",
       "      <td>Insurance</td>\n",
       "      <td>Unknown / Non-Applicable</td>\n",
       "      <td>EmblemHealth, UnitedHealth Group, Aetna</td>\n",
       "    </tr>\n",
       "    <tr>\n",
       "      <th>1</th>\n",
       "      <td>1</td>\n",
       "      <td>Data Scientist</td>\n",
       "      <td>$137K-$171K (Glassdoor est.)</td>\n",
       "      <td>Secure our Nation, Ignite your Future\\n\\nJoin ...</td>\n",
       "      <td>4.2</td>\n",
       "      <td>ManTech\\n4.2</td>\n",
       "      <td>Chantilly, VA</td>\n",
       "      <td>Herndon, VA</td>\n",
       "      <td>5001 to 10000 employees</td>\n",
       "      <td>1968</td>\n",
       "      <td>Company - Public</td>\n",
       "      <td>Research &amp; Development</td>\n",
       "      <td>Business Services</td>\n",
       "      <td>$1 to $2 billion (USD)</td>\n",
       "      <td>-1</td>\n",
       "    </tr>\n",
       "    <tr>\n",
       "      <th>2</th>\n",
       "      <td>2</td>\n",
       "      <td>Data Scientist</td>\n",
       "      <td>$137K-$171K (Glassdoor est.)</td>\n",
       "      <td>Overview\\n\\n\\nAnalysis Group is one of the lar...</td>\n",
       "      <td>3.8</td>\n",
       "      <td>Analysis Group\\n3.8</td>\n",
       "      <td>Boston, MA</td>\n",
       "      <td>Boston, MA</td>\n",
       "      <td>1001 to 5000 employees</td>\n",
       "      <td>1981</td>\n",
       "      <td>Private Practice / Firm</td>\n",
       "      <td>Consulting</td>\n",
       "      <td>Business Services</td>\n",
       "      <td>$100 to $500 million (USD)</td>\n",
       "      <td>-1</td>\n",
       "    </tr>\n",
       "    <tr>\n",
       "      <th>3</th>\n",
       "      <td>3</td>\n",
       "      <td>Data Scientist</td>\n",
       "      <td>$137K-$171K (Glassdoor est.)</td>\n",
       "      <td>JOB DESCRIPTION:\\n\\nDo you have a passion for ...</td>\n",
       "      <td>3.5</td>\n",
       "      <td>INFICON\\n3.5</td>\n",
       "      <td>Newton, MA</td>\n",
       "      <td>Bad Ragaz, Switzerland</td>\n",
       "      <td>501 to 1000 employees</td>\n",
       "      <td>2000</td>\n",
       "      <td>Company - Public</td>\n",
       "      <td>Electrical &amp; Electronic Manufacturing</td>\n",
       "      <td>Manufacturing</td>\n",
       "      <td>$100 to $500 million (USD)</td>\n",
       "      <td>MKS Instruments, Pfeiffer Vacuum, Agilent Tech...</td>\n",
       "    </tr>\n",
       "    <tr>\n",
       "      <th>4</th>\n",
       "      <td>4</td>\n",
       "      <td>Data Scientist</td>\n",
       "      <td>$137K-$171K (Glassdoor est.)</td>\n",
       "      <td>Data Scientist\\nAffinity Solutions / Marketing...</td>\n",
       "      <td>2.9</td>\n",
       "      <td>Affinity Solutions\\n2.9</td>\n",
       "      <td>New York, NY</td>\n",
       "      <td>New York, NY</td>\n",
       "      <td>51 to 200 employees</td>\n",
       "      <td>1998</td>\n",
       "      <td>Company - Private</td>\n",
       "      <td>Advertising &amp; Marketing</td>\n",
       "      <td>Business Services</td>\n",
       "      <td>Unknown / Non-Applicable</td>\n",
       "      <td>Commerce Signals, Cardlytics, Yodlee</td>\n",
       "    </tr>\n",
       "  </tbody>\n",
       "</table>\n",
       "</div>"
      ],
      "text/plain": [
       "   index          Job Title               Salary Estimate  \\\n",
       "0      0  Sr Data Scientist  $137K-$171K (Glassdoor est.)   \n",
       "1      1     Data Scientist  $137K-$171K (Glassdoor est.)   \n",
       "2      2     Data Scientist  $137K-$171K (Glassdoor est.)   \n",
       "3      3     Data Scientist  $137K-$171K (Glassdoor est.)   \n",
       "4      4     Data Scientist  $137K-$171K (Glassdoor est.)   \n",
       "\n",
       "                                     Job Description  Rating  \\\n",
       "0  Description\\n\\nThe Senior Data Scientist is re...     3.1   \n",
       "1  Secure our Nation, Ignite your Future\\n\\nJoin ...     4.2   \n",
       "2  Overview\\n\\n\\nAnalysis Group is one of the lar...     3.8   \n",
       "3  JOB DESCRIPTION:\\n\\nDo you have a passion for ...     3.5   \n",
       "4  Data Scientist\\nAffinity Solutions / Marketing...     2.9   \n",
       "\n",
       "              Company Name       Location            Headquarters  \\\n",
       "0         Healthfirst\\n3.1   New York, NY            New York, NY   \n",
       "1             ManTech\\n4.2  Chantilly, VA             Herndon, VA   \n",
       "2      Analysis Group\\n3.8     Boston, MA              Boston, MA   \n",
       "3             INFICON\\n3.5     Newton, MA  Bad Ragaz, Switzerland   \n",
       "4  Affinity Solutions\\n2.9   New York, NY            New York, NY   \n",
       "\n",
       "                      Size  Founded        Type of ownership  \\\n",
       "0   1001 to 5000 employees     1993   Nonprofit Organization   \n",
       "1  5001 to 10000 employees     1968         Company - Public   \n",
       "2   1001 to 5000 employees     1981  Private Practice / Firm   \n",
       "3    501 to 1000 employees     2000         Company - Public   \n",
       "4      51 to 200 employees     1998        Company - Private   \n",
       "\n",
       "                                Industry             Sector  \\\n",
       "0                     Insurance Carriers          Insurance   \n",
       "1                 Research & Development  Business Services   \n",
       "2                             Consulting  Business Services   \n",
       "3  Electrical & Electronic Manufacturing      Manufacturing   \n",
       "4                Advertising & Marketing  Business Services   \n",
       "\n",
       "                      Revenue  \\\n",
       "0    Unknown / Non-Applicable   \n",
       "1      $1 to $2 billion (USD)   \n",
       "2  $100 to $500 million (USD)   \n",
       "3  $100 to $500 million (USD)   \n",
       "4    Unknown / Non-Applicable   \n",
       "\n",
       "                                         Competitors  \n",
       "0            EmblemHealth, UnitedHealth Group, Aetna  \n",
       "1                                                 -1  \n",
       "2                                                 -1  \n",
       "3  MKS Instruments, Pfeiffer Vacuum, Agilent Tech...  \n",
       "4               Commerce Signals, Cardlytics, Yodlee  "
      ]
     },
     "execution_count": 3,
     "metadata": {},
     "output_type": "execute_result"
    }
   ],
   "source": [
    "data.head()"
   ]
  },
  {
   "cell_type": "markdown",
   "id": "3892082a",
   "metadata": {},
   "source": [
    "#### checking our data"
   ]
  },
  {
   "cell_type": "code",
   "execution_count": 4,
   "id": "0092c2b5",
   "metadata": {},
   "outputs": [
    {
     "data": {
      "text/plain": [
       "(672, 15)"
      ]
     },
     "execution_count": 4,
     "metadata": {},
     "output_type": "execute_result"
    }
   ],
   "source": [
    "data.shape"
   ]
  },
  {
   "cell_type": "code",
   "execution_count": 5,
   "id": "3c9e639b",
   "metadata": {
    "scrolled": false
   },
   "outputs": [
    {
     "name": "stdout",
     "output_type": "stream",
     "text": [
      "<class 'pandas.core.frame.DataFrame'>\n",
      "RangeIndex: 672 entries, 0 to 671\n",
      "Data columns (total 15 columns):\n",
      " #   Column             Non-Null Count  Dtype  \n",
      "---  ------             --------------  -----  \n",
      " 0   index              672 non-null    int64  \n",
      " 1   Job Title          672 non-null    object \n",
      " 2   Salary Estimate    672 non-null    object \n",
      " 3   Job Description    672 non-null    object \n",
      " 4   Rating             672 non-null    float64\n",
      " 5   Company Name       672 non-null    object \n",
      " 6   Location           672 non-null    object \n",
      " 7   Headquarters       672 non-null    object \n",
      " 8   Size               672 non-null    object \n",
      " 9   Founded            672 non-null    int64  \n",
      " 10  Type of ownership  672 non-null    object \n",
      " 11  Industry           672 non-null    object \n",
      " 12  Sector             672 non-null    object \n",
      " 13  Revenue            672 non-null    object \n",
      " 14  Competitors        672 non-null    object \n",
      "dtypes: float64(1), int64(2), object(12)\n",
      "memory usage: 78.9+ KB\n"
     ]
    }
   ],
   "source": [
    "data.info() #checking column types"
   ]
  },
  {
   "cell_type": "code",
   "execution_count": 6,
   "id": "233ad26f",
   "metadata": {},
   "outputs": [
    {
     "data": {
      "text/html": [
       "<div>\n",
       "<style scoped>\n",
       "    .dataframe tbody tr th:only-of-type {\n",
       "        vertical-align: middle;\n",
       "    }\n",
       "\n",
       "    .dataframe tbody tr th {\n",
       "        vertical-align: top;\n",
       "    }\n",
       "\n",
       "    .dataframe thead th {\n",
       "        text-align: right;\n",
       "    }\n",
       "</style>\n",
       "<table border=\"1\" class=\"dataframe\">\n",
       "  <thead>\n",
       "    <tr style=\"text-align: right;\">\n",
       "      <th></th>\n",
       "      <th>index</th>\n",
       "      <th>Rating</th>\n",
       "      <th>Founded</th>\n",
       "    </tr>\n",
       "  </thead>\n",
       "  <tbody>\n",
       "    <tr>\n",
       "      <th>count</th>\n",
       "      <td>672.000000</td>\n",
       "      <td>672.000000</td>\n",
       "      <td>672.000000</td>\n",
       "    </tr>\n",
       "    <tr>\n",
       "      <th>mean</th>\n",
       "      <td>335.500000</td>\n",
       "      <td>3.518601</td>\n",
       "      <td>1635.529762</td>\n",
       "    </tr>\n",
       "    <tr>\n",
       "      <th>std</th>\n",
       "      <td>194.133974</td>\n",
       "      <td>1.410329</td>\n",
       "      <td>756.746640</td>\n",
       "    </tr>\n",
       "    <tr>\n",
       "      <th>min</th>\n",
       "      <td>0.000000</td>\n",
       "      <td>-1.000000</td>\n",
       "      <td>-1.000000</td>\n",
       "    </tr>\n",
       "    <tr>\n",
       "      <th>25%</th>\n",
       "      <td>167.750000</td>\n",
       "      <td>3.300000</td>\n",
       "      <td>1917.750000</td>\n",
       "    </tr>\n",
       "    <tr>\n",
       "      <th>50%</th>\n",
       "      <td>335.500000</td>\n",
       "      <td>3.800000</td>\n",
       "      <td>1995.000000</td>\n",
       "    </tr>\n",
       "    <tr>\n",
       "      <th>75%</th>\n",
       "      <td>503.250000</td>\n",
       "      <td>4.300000</td>\n",
       "      <td>2009.000000</td>\n",
       "    </tr>\n",
       "    <tr>\n",
       "      <th>max</th>\n",
       "      <td>671.000000</td>\n",
       "      <td>5.000000</td>\n",
       "      <td>2019.000000</td>\n",
       "    </tr>\n",
       "  </tbody>\n",
       "</table>\n",
       "</div>"
      ],
      "text/plain": [
       "            index      Rating      Founded\n",
       "count  672.000000  672.000000   672.000000\n",
       "mean   335.500000    3.518601  1635.529762\n",
       "std    194.133974    1.410329   756.746640\n",
       "min      0.000000   -1.000000    -1.000000\n",
       "25%    167.750000    3.300000  1917.750000\n",
       "50%    335.500000    3.800000  1995.000000\n",
       "75%    503.250000    4.300000  2009.000000\n",
       "max    671.000000    5.000000  2019.000000"
      ]
     },
     "execution_count": 6,
     "metadata": {},
     "output_type": "execute_result"
    }
   ],
   "source": [
    "data.describe() # We see that salary/company revenue are objects, for now at least"
   ]
  },
  {
   "cell_type": "markdown",
   "id": "215d00c6",
   "metadata": {},
   "source": [
    "### Index column"
   ]
  },
  {
   "cell_type": "code",
   "execution_count": 7,
   "id": "a6dce624",
   "metadata": {},
   "outputs": [
    {
     "data": {
      "text/plain": [
       "0"
      ]
     },
     "execution_count": 7,
     "metadata": {},
     "output_type": "execute_result"
    }
   ],
   "source": [
    "#Checking for nan/duplicated indexes , in index column\n",
    "data.index.isna().sum()"
   ]
  },
  {
   "cell_type": "code",
   "execution_count": 8,
   "id": "7c1aed2b",
   "metadata": {},
   "outputs": [
    {
     "data": {
      "text/plain": [
       "0"
      ]
     },
     "execution_count": 8,
     "metadata": {},
     "output_type": "execute_result"
    }
   ],
   "source": [
    "len(data['index'].unique())-data.shape[0]"
   ]
  },
  {
   "cell_type": "code",
   "execution_count": 9,
   "id": "51a34fef",
   "metadata": {},
   "outputs": [],
   "source": [
    "#No duplicated/nan  , setting index column as an index for the data\n",
    "data=data.set_index('index')"
   ]
  },
  {
   "cell_type": "code",
   "execution_count": 10,
   "id": "79fb14b5",
   "metadata": {},
   "outputs": [
    {
     "data": {
      "text/html": [
       "<div>\n",
       "<style scoped>\n",
       "    .dataframe tbody tr th:only-of-type {\n",
       "        vertical-align: middle;\n",
       "    }\n",
       "\n",
       "    .dataframe tbody tr th {\n",
       "        vertical-align: top;\n",
       "    }\n",
       "\n",
       "    .dataframe thead th {\n",
       "        text-align: right;\n",
       "    }\n",
       "</style>\n",
       "<table border=\"1\" class=\"dataframe\">\n",
       "  <thead>\n",
       "    <tr style=\"text-align: right;\">\n",
       "      <th></th>\n",
       "      <th>Job Title</th>\n",
       "      <th>Salary Estimate</th>\n",
       "      <th>Job Description</th>\n",
       "      <th>Rating</th>\n",
       "      <th>Company Name</th>\n",
       "      <th>Location</th>\n",
       "      <th>Headquarters</th>\n",
       "      <th>Size</th>\n",
       "      <th>Founded</th>\n",
       "      <th>Type of ownership</th>\n",
       "      <th>Industry</th>\n",
       "      <th>Sector</th>\n",
       "      <th>Revenue</th>\n",
       "      <th>Competitors</th>\n",
       "    </tr>\n",
       "    <tr>\n",
       "      <th>index</th>\n",
       "      <th></th>\n",
       "      <th></th>\n",
       "      <th></th>\n",
       "      <th></th>\n",
       "      <th></th>\n",
       "      <th></th>\n",
       "      <th></th>\n",
       "      <th></th>\n",
       "      <th></th>\n",
       "      <th></th>\n",
       "      <th></th>\n",
       "      <th></th>\n",
       "      <th></th>\n",
       "      <th></th>\n",
       "    </tr>\n",
       "  </thead>\n",
       "  <tbody>\n",
       "    <tr>\n",
       "      <th>0</th>\n",
       "      <td>Sr Data Scientist</td>\n",
       "      <td>$137K-$171K (Glassdoor est.)</td>\n",
       "      <td>Description\\n\\nThe Senior Data Scientist is re...</td>\n",
       "      <td>3.1</td>\n",
       "      <td>Healthfirst\\n3.1</td>\n",
       "      <td>New York, NY</td>\n",
       "      <td>New York, NY</td>\n",
       "      <td>1001 to 5000 employees</td>\n",
       "      <td>1993</td>\n",
       "      <td>Nonprofit Organization</td>\n",
       "      <td>Insurance Carriers</td>\n",
       "      <td>Insurance</td>\n",
       "      <td>Unknown / Non-Applicable</td>\n",
       "      <td>EmblemHealth, UnitedHealth Group, Aetna</td>\n",
       "    </tr>\n",
       "    <tr>\n",
       "      <th>1</th>\n",
       "      <td>Data Scientist</td>\n",
       "      <td>$137K-$171K (Glassdoor est.)</td>\n",
       "      <td>Secure our Nation, Ignite your Future\\n\\nJoin ...</td>\n",
       "      <td>4.2</td>\n",
       "      <td>ManTech\\n4.2</td>\n",
       "      <td>Chantilly, VA</td>\n",
       "      <td>Herndon, VA</td>\n",
       "      <td>5001 to 10000 employees</td>\n",
       "      <td>1968</td>\n",
       "      <td>Company - Public</td>\n",
       "      <td>Research &amp; Development</td>\n",
       "      <td>Business Services</td>\n",
       "      <td>$1 to $2 billion (USD)</td>\n",
       "      <td>-1</td>\n",
       "    </tr>\n",
       "    <tr>\n",
       "      <th>2</th>\n",
       "      <td>Data Scientist</td>\n",
       "      <td>$137K-$171K (Glassdoor est.)</td>\n",
       "      <td>Overview\\n\\n\\nAnalysis Group is one of the lar...</td>\n",
       "      <td>3.8</td>\n",
       "      <td>Analysis Group\\n3.8</td>\n",
       "      <td>Boston, MA</td>\n",
       "      <td>Boston, MA</td>\n",
       "      <td>1001 to 5000 employees</td>\n",
       "      <td>1981</td>\n",
       "      <td>Private Practice / Firm</td>\n",
       "      <td>Consulting</td>\n",
       "      <td>Business Services</td>\n",
       "      <td>$100 to $500 million (USD)</td>\n",
       "      <td>-1</td>\n",
       "    </tr>\n",
       "    <tr>\n",
       "      <th>3</th>\n",
       "      <td>Data Scientist</td>\n",
       "      <td>$137K-$171K (Glassdoor est.)</td>\n",
       "      <td>JOB DESCRIPTION:\\n\\nDo you have a passion for ...</td>\n",
       "      <td>3.5</td>\n",
       "      <td>INFICON\\n3.5</td>\n",
       "      <td>Newton, MA</td>\n",
       "      <td>Bad Ragaz, Switzerland</td>\n",
       "      <td>501 to 1000 employees</td>\n",
       "      <td>2000</td>\n",
       "      <td>Company - Public</td>\n",
       "      <td>Electrical &amp; Electronic Manufacturing</td>\n",
       "      <td>Manufacturing</td>\n",
       "      <td>$100 to $500 million (USD)</td>\n",
       "      <td>MKS Instruments, Pfeiffer Vacuum, Agilent Tech...</td>\n",
       "    </tr>\n",
       "    <tr>\n",
       "      <th>4</th>\n",
       "      <td>Data Scientist</td>\n",
       "      <td>$137K-$171K (Glassdoor est.)</td>\n",
       "      <td>Data Scientist\\nAffinity Solutions / Marketing...</td>\n",
       "      <td>2.9</td>\n",
       "      <td>Affinity Solutions\\n2.9</td>\n",
       "      <td>New York, NY</td>\n",
       "      <td>New York, NY</td>\n",
       "      <td>51 to 200 employees</td>\n",
       "      <td>1998</td>\n",
       "      <td>Company - Private</td>\n",
       "      <td>Advertising &amp; Marketing</td>\n",
       "      <td>Business Services</td>\n",
       "      <td>Unknown / Non-Applicable</td>\n",
       "      <td>Commerce Signals, Cardlytics, Yodlee</td>\n",
       "    </tr>\n",
       "  </tbody>\n",
       "</table>\n",
       "</div>"
      ],
      "text/plain": [
       "               Job Title               Salary Estimate  \\\n",
       "index                                                    \n",
       "0      Sr Data Scientist  $137K-$171K (Glassdoor est.)   \n",
       "1         Data Scientist  $137K-$171K (Glassdoor est.)   \n",
       "2         Data Scientist  $137K-$171K (Glassdoor est.)   \n",
       "3         Data Scientist  $137K-$171K (Glassdoor est.)   \n",
       "4         Data Scientist  $137K-$171K (Glassdoor est.)   \n",
       "\n",
       "                                         Job Description  Rating  \\\n",
       "index                                                              \n",
       "0      Description\\n\\nThe Senior Data Scientist is re...     3.1   \n",
       "1      Secure our Nation, Ignite your Future\\n\\nJoin ...     4.2   \n",
       "2      Overview\\n\\n\\nAnalysis Group is one of the lar...     3.8   \n",
       "3      JOB DESCRIPTION:\\n\\nDo you have a passion for ...     3.5   \n",
       "4      Data Scientist\\nAffinity Solutions / Marketing...     2.9   \n",
       "\n",
       "                  Company Name       Location            Headquarters  \\\n",
       "index                                                                   \n",
       "0             Healthfirst\\n3.1   New York, NY            New York, NY   \n",
       "1                 ManTech\\n4.2  Chantilly, VA             Herndon, VA   \n",
       "2          Analysis Group\\n3.8     Boston, MA              Boston, MA   \n",
       "3                 INFICON\\n3.5     Newton, MA  Bad Ragaz, Switzerland   \n",
       "4      Affinity Solutions\\n2.9   New York, NY            New York, NY   \n",
       "\n",
       "                          Size  Founded        Type of ownership  \\\n",
       "index                                                              \n",
       "0       1001 to 5000 employees     1993   Nonprofit Organization   \n",
       "1      5001 to 10000 employees     1968         Company - Public   \n",
       "2       1001 to 5000 employees     1981  Private Practice / Firm   \n",
       "3        501 to 1000 employees     2000         Company - Public   \n",
       "4          51 to 200 employees     1998        Company - Private   \n",
       "\n",
       "                                    Industry             Sector  \\\n",
       "index                                                             \n",
       "0                         Insurance Carriers          Insurance   \n",
       "1                     Research & Development  Business Services   \n",
       "2                                 Consulting  Business Services   \n",
       "3      Electrical & Electronic Manufacturing      Manufacturing   \n",
       "4                    Advertising & Marketing  Business Services   \n",
       "\n",
       "                          Revenue  \\\n",
       "index                               \n",
       "0        Unknown / Non-Applicable   \n",
       "1          $1 to $2 billion (USD)   \n",
       "2      $100 to $500 million (USD)   \n",
       "3      $100 to $500 million (USD)   \n",
       "4        Unknown / Non-Applicable   \n",
       "\n",
       "                                             Competitors  \n",
       "index                                                     \n",
       "0                EmblemHealth, UnitedHealth Group, Aetna  \n",
       "1                                                     -1  \n",
       "2                                                     -1  \n",
       "3      MKS Instruments, Pfeiffer Vacuum, Agilent Tech...  \n",
       "4                   Commerce Signals, Cardlytics, Yodlee  "
      ]
     },
     "execution_count": 10,
     "metadata": {},
     "output_type": "execute_result"
    }
   ],
   "source": [
    "data.head()"
   ]
  },
  {
   "cell_type": "markdown",
   "id": "a998ce40",
   "metadata": {},
   "source": [
    "### Job title : 👷‍♂"
   ]
  },
  {
   "cell_type": "markdown",
   "id": "45e0cce7",
   "metadata": {},
   "source": [
    "Will leave it as it is !"
   ]
  },
  {
   "cell_type": "code",
   "execution_count": 11,
   "id": "9bce324b",
   "metadata": {},
   "outputs": [
    {
     "data": {
      "text/plain": [
       "0"
      ]
     },
     "execution_count": 11,
     "metadata": {},
     "output_type": "execute_result"
    }
   ],
   "source": [
    "data['Job Title'].isna().sum() #Checking for nan"
   ]
  },
  {
   "cell_type": "code",
   "execution_count": 12,
   "id": "c6148873",
   "metadata": {},
   "outputs": [
    {
     "data": {
      "text/plain": [
       "172"
      ]
     },
     "execution_count": 12,
     "metadata": {},
     "output_type": "execute_result"
    }
   ],
   "source": [
    "len(data['Job Title'].unique()) #there are 172 diffrent roles on our data"
   ]
  },
  {
   "cell_type": "markdown",
   "id": "8c6efba4",
   "metadata": {},
   "source": [
    "### Salary Estimate"
   ]
  },
  {
   "cell_type": "markdown",
   "id": "d3a6f2e1",
   "metadata": {},
   "source": [
    "Our columns contains objects ie non numeric , we want to change that\n",
    "Will set the range estimate to point estimate this will help us great deal later on"
   ]
  },
  {
   "cell_type": "code",
   "execution_count": 13,
   "id": "d68608ea",
   "metadata": {},
   "outputs": [
    {
     "data": {
      "text/plain": [
       "0"
      ]
     },
     "execution_count": 13,
     "metadata": {},
     "output_type": "execute_result"
    }
   ],
   "source": [
    "data['Salary Estimate'].isna().sum() #no nan values."
   ]
  },
  {
   "cell_type": "markdown",
   "id": "229a6826",
   "metadata": {},
   "source": [
    "##### Checking for repeated pattern in that column ,in order to extract numbers safely"
   ]
  },
  {
   "cell_type": "code",
   "execution_count": 14,
   "id": "72207954",
   "metadata": {
    "scrolled": false
   },
   "outputs": [],
   "source": [
    "pattern_check=pd.DataFrame(data['Salary Estimate'].unique())"
   ]
  },
  {
   "cell_type": "code",
   "execution_count": 15,
   "id": "a9ae8cd1",
   "metadata": {},
   "outputs": [],
   "source": [
    "pattern_check=pattern_check[0].apply(lambda x:x[-16:].strip('K'))"
   ]
  },
  {
   "cell_type": "code",
   "execution_count": 16,
   "id": "62e59590",
   "metadata": {},
   "outputs": [
    {
     "data": {
      "text/plain": [
       "'(Employer est.)'"
      ]
     },
     "execution_count": 16,
     "metadata": {},
     "output_type": "execute_result"
    }
   ],
   "source": [
    "pattern_check.unique()[1]"
   ]
  },
  {
   "cell_type": "code",
   "execution_count": 17,
   "id": "a90b5e02",
   "metadata": {},
   "outputs": [
    {
     "data": {
      "text/plain": [
       "2"
      ]
     },
     "execution_count": 17,
     "metadata": {},
     "output_type": "execute_result"
    }
   ],
   "source": [
    "len(pattern_check.unique()) # We see that we got 2 patterns to watch out for"
   ]
  },
  {
   "cell_type": "code",
   "execution_count": 18,
   "id": "f7d9824b",
   "metadata": {},
   "outputs": [],
   "source": [
    "def eval_currency(input):\n",
    "    return int(input[0][1:-1])*1000,int(input[1][1:-1])*1000"
   ]
  },
  {
   "cell_type": "code",
   "execution_count": 19,
   "id": "6d578063",
   "metadata": {},
   "outputs": [],
   "source": [
    "def extract_average(input):\n",
    "    if input[-16:].strip('K')==pattern_check.unique()[0]:\n",
    "        start,end=eval_currency(input.strip(pattern_check.unique()[0]).split('-'))\n",
    "    else:\n",
    "        start,end=eval_currency(input.strip(pattern_check.unique()[1]).split('-'))\n",
    "    return (start+end)/2"
   ]
  },
  {
   "cell_type": "code",
   "execution_count": 20,
   "id": "6a7415f1",
   "metadata": {},
   "outputs": [],
   "source": [
    "data['Salary Estimate']=data['Salary Estimate'].apply(lambda x:extract_average(x))"
   ]
  },
  {
   "cell_type": "code",
   "execution_count": 21,
   "id": "24c1106c",
   "metadata": {},
   "outputs": [],
   "source": [
    "pd.options.display.float_format='{:.2f}'.format"
   ]
  },
  {
   "cell_type": "code",
   "execution_count": 22,
   "id": "79b90bb5",
   "metadata": {
    "scrolled": true
   },
   "outputs": [
    {
     "data": {
      "text/plain": [
       "count      672.00\n",
       "mean    123663.69\n",
       "std      39580.27\n",
       "min      43500.00\n",
       "25%     103000.00\n",
       "50%     114000.00\n",
       "75%     136500.00\n",
       "max     271500.00\n",
       "Name: Salary Estimate, dtype: float64"
      ]
     },
     "execution_count": 22,
     "metadata": {},
     "output_type": "execute_result"
    }
   ],
   "source": [
    "data['Salary Estimate'].describe()"
   ]
  },
  {
   "cell_type": "markdown",
   "id": "ed212261",
   "metadata": {},
   "source": [
    "### Job description"
   ]
  },
  {
   "cell_type": "code",
   "execution_count": 23,
   "id": "3bc2c85b",
   "metadata": {},
   "outputs": [],
   "source": [
    "# Job title is thorough enough , and its self explanatory ,\n",
    "# For that matter will drop Job Description as a whole"
   ]
  },
  {
   "cell_type": "code",
   "execution_count": 24,
   "id": "8d6e5562",
   "metadata": {},
   "outputs": [],
   "source": [
    "data=data.drop('Job Description',axis=1) #droping job_desc"
   ]
  },
  {
   "cell_type": "markdown",
   "id": "c285a790",
   "metadata": {},
   "source": [
    "#### Rating"
   ]
  },
  {
   "cell_type": "code",
   "execution_count": 25,
   "id": "019dec4b",
   "metadata": {},
   "outputs": [
    {
     "data": {
      "text/plain": [
       "0"
      ]
     },
     "execution_count": 25,
     "metadata": {},
     "output_type": "execute_result"
    }
   ],
   "source": [
    "data['Rating'].isna().sum() #No nan values , but there are -1 values , that indicates NAN"
   ]
  },
  {
   "cell_type": "code",
   "execution_count": 26,
   "id": "6a7e7512",
   "metadata": {},
   "outputs": [
    {
     "data": {
      "text/plain": [
       "50"
      ]
     },
     "execution_count": 26,
     "metadata": {},
     "output_type": "execute_result"
    }
   ],
   "source": [
    "data[data['Rating']==-1].shape[0] #50 Companies have missing 'rating' values"
   ]
  },
  {
   "cell_type": "code",
   "execution_count": 27,
   "id": "0ac95837",
   "metadata": {},
   "outputs": [
    {
     "data": {
      "text/plain": [
       "array([ 3.1,  4.2,  3.8,  3.5,  2.9,  3.9,  4.4,  3.6,  4.5,  4.7,  3.7,\n",
       "        3.4,  4.1,  3.2,  4.3,  2.8,  5. ,  4.8,  3.3,  2.7,  2.2,  2.6,\n",
       "        4. ,  2.5,  4.9,  2.4, -1. ,  2.3,  4.6,  3. ,  2.1,  2. ])"
      ]
     },
     "execution_count": 27,
     "metadata": {},
     "output_type": "execute_result"
    }
   ],
   "source": [
    "data['Rating'].unique()"
   ]
  },
  {
   "cell_type": "code",
   "execution_count": 28,
   "id": "dfeb4c5d",
   "metadata": {},
   "outputs": [],
   "source": [
    "#For this matter will assume the worse and assign the worst rating for each of these companies\n",
    "#explanation:rating is a type of public trust , any missing values is already a red-flag , so we can't go ease here"
   ]
  },
  {
   "cell_type": "code",
   "execution_count": 29,
   "id": "0d493865",
   "metadata": {},
   "outputs": [],
   "source": [
    "data[data['Rating']!=-1]['Rating'].describe() #Extracting the min (excluding -1)\n",
    "min_rating=_[3]"
   ]
  },
  {
   "cell_type": "code",
   "execution_count": 30,
   "id": "ef729c04",
   "metadata": {},
   "outputs": [],
   "source": [
    "data['Rating']=data['Rating'].apply(lambda x:min_rating if x==-1 else x)"
   ]
  },
  {
   "cell_type": "markdown",
   "id": "add164fd",
   "metadata": {},
   "source": [
    "#### Company Name"
   ]
  },
  {
   "cell_type": "markdown",
   "id": "eb0fa7a0",
   "metadata": {},
   "source": [
    "There seem to be an issue with our values , they contain (numbers,'\\n') we want to clean that"
   ]
  },
  {
   "cell_type": "code",
   "execution_count": 31,
   "id": "a5f8eec6",
   "metadata": {},
   "outputs": [
    {
     "data": {
      "text/plain": [
       "0"
      ]
     },
     "execution_count": 31,
     "metadata": {},
     "output_type": "execute_result"
    }
   ],
   "source": [
    "data[data['Company Name']==-1].shape[0] #No missing values"
   ]
  },
  {
   "cell_type": "code",
   "execution_count": 32,
   "id": "68c79a26",
   "metadata": {},
   "outputs": [
    {
     "data": {
      "text/html": [
       "<div>\n",
       "<style scoped>\n",
       "    .dataframe tbody tr th:only-of-type {\n",
       "        vertical-align: middle;\n",
       "    }\n",
       "\n",
       "    .dataframe tbody tr th {\n",
       "        vertical-align: top;\n",
       "    }\n",
       "\n",
       "    .dataframe thead th {\n",
       "        text-align: right;\n",
       "    }\n",
       "</style>\n",
       "<table border=\"1\" class=\"dataframe\">\n",
       "  <thead>\n",
       "    <tr style=\"text-align: right;\">\n",
       "      <th></th>\n",
       "      <th>Job Title</th>\n",
       "      <th>Salary Estimate</th>\n",
       "      <th>Rating</th>\n",
       "      <th>Company Name</th>\n",
       "      <th>Location</th>\n",
       "      <th>Headquarters</th>\n",
       "      <th>Size</th>\n",
       "      <th>Founded</th>\n",
       "      <th>Type of ownership</th>\n",
       "      <th>Industry</th>\n",
       "      <th>Sector</th>\n",
       "      <th>Revenue</th>\n",
       "      <th>Competitors</th>\n",
       "    </tr>\n",
       "    <tr>\n",
       "      <th>index</th>\n",
       "      <th></th>\n",
       "      <th></th>\n",
       "      <th></th>\n",
       "      <th></th>\n",
       "      <th></th>\n",
       "      <th></th>\n",
       "      <th></th>\n",
       "      <th></th>\n",
       "      <th></th>\n",
       "      <th></th>\n",
       "      <th></th>\n",
       "      <th></th>\n",
       "      <th></th>\n",
       "    </tr>\n",
       "  </thead>\n",
       "  <tbody>\n",
       "    <tr>\n",
       "      <th>0</th>\n",
       "      <td>Sr Data Scientist</td>\n",
       "      <td>154000.00</td>\n",
       "      <td>3.10</td>\n",
       "      <td>Healthfirst\\n3.1</td>\n",
       "      <td>New York, NY</td>\n",
       "      <td>New York, NY</td>\n",
       "      <td>1001 to 5000 employees</td>\n",
       "      <td>1993</td>\n",
       "      <td>Nonprofit Organization</td>\n",
       "      <td>Insurance Carriers</td>\n",
       "      <td>Insurance</td>\n",
       "      <td>Unknown / Non-Applicable</td>\n",
       "      <td>EmblemHealth, UnitedHealth Group, Aetna</td>\n",
       "    </tr>\n",
       "    <tr>\n",
       "      <th>1</th>\n",
       "      <td>Data Scientist</td>\n",
       "      <td>154000.00</td>\n",
       "      <td>4.20</td>\n",
       "      <td>ManTech\\n4.2</td>\n",
       "      <td>Chantilly, VA</td>\n",
       "      <td>Herndon, VA</td>\n",
       "      <td>5001 to 10000 employees</td>\n",
       "      <td>1968</td>\n",
       "      <td>Company - Public</td>\n",
       "      <td>Research &amp; Development</td>\n",
       "      <td>Business Services</td>\n",
       "      <td>$1 to $2 billion (USD)</td>\n",
       "      <td>-1</td>\n",
       "    </tr>\n",
       "    <tr>\n",
       "      <th>2</th>\n",
       "      <td>Data Scientist</td>\n",
       "      <td>154000.00</td>\n",
       "      <td>3.80</td>\n",
       "      <td>Analysis Group\\n3.8</td>\n",
       "      <td>Boston, MA</td>\n",
       "      <td>Boston, MA</td>\n",
       "      <td>1001 to 5000 employees</td>\n",
       "      <td>1981</td>\n",
       "      <td>Private Practice / Firm</td>\n",
       "      <td>Consulting</td>\n",
       "      <td>Business Services</td>\n",
       "      <td>$100 to $500 million (USD)</td>\n",
       "      <td>-1</td>\n",
       "    </tr>\n",
       "    <tr>\n",
       "      <th>3</th>\n",
       "      <td>Data Scientist</td>\n",
       "      <td>154000.00</td>\n",
       "      <td>3.50</td>\n",
       "      <td>INFICON\\n3.5</td>\n",
       "      <td>Newton, MA</td>\n",
       "      <td>Bad Ragaz, Switzerland</td>\n",
       "      <td>501 to 1000 employees</td>\n",
       "      <td>2000</td>\n",
       "      <td>Company - Public</td>\n",
       "      <td>Electrical &amp; Electronic Manufacturing</td>\n",
       "      <td>Manufacturing</td>\n",
       "      <td>$100 to $500 million (USD)</td>\n",
       "      <td>MKS Instruments, Pfeiffer Vacuum, Agilent Tech...</td>\n",
       "    </tr>\n",
       "    <tr>\n",
       "      <th>4</th>\n",
       "      <td>Data Scientist</td>\n",
       "      <td>154000.00</td>\n",
       "      <td>2.90</td>\n",
       "      <td>Affinity Solutions\\n2.9</td>\n",
       "      <td>New York, NY</td>\n",
       "      <td>New York, NY</td>\n",
       "      <td>51 to 200 employees</td>\n",
       "      <td>1998</td>\n",
       "      <td>Company - Private</td>\n",
       "      <td>Advertising &amp; Marketing</td>\n",
       "      <td>Business Services</td>\n",
       "      <td>Unknown / Non-Applicable</td>\n",
       "      <td>Commerce Signals, Cardlytics, Yodlee</td>\n",
       "    </tr>\n",
       "  </tbody>\n",
       "</table>\n",
       "</div>"
      ],
      "text/plain": [
       "               Job Title  Salary Estimate  Rating             Company Name  \\\n",
       "index                                                                        \n",
       "0      Sr Data Scientist        154000.00    3.10         Healthfirst\\n3.1   \n",
       "1         Data Scientist        154000.00    4.20             ManTech\\n4.2   \n",
       "2         Data Scientist        154000.00    3.80      Analysis Group\\n3.8   \n",
       "3         Data Scientist        154000.00    3.50             INFICON\\n3.5   \n",
       "4         Data Scientist        154000.00    2.90  Affinity Solutions\\n2.9   \n",
       "\n",
       "            Location            Headquarters                     Size  \\\n",
       "index                                                                   \n",
       "0       New York, NY            New York, NY   1001 to 5000 employees   \n",
       "1      Chantilly, VA             Herndon, VA  5001 to 10000 employees   \n",
       "2         Boston, MA              Boston, MA   1001 to 5000 employees   \n",
       "3         Newton, MA  Bad Ragaz, Switzerland    501 to 1000 employees   \n",
       "4       New York, NY            New York, NY      51 to 200 employees   \n",
       "\n",
       "       Founded        Type of ownership  \\\n",
       "index                                     \n",
       "0         1993   Nonprofit Organization   \n",
       "1         1968         Company - Public   \n",
       "2         1981  Private Practice / Firm   \n",
       "3         2000         Company - Public   \n",
       "4         1998        Company - Private   \n",
       "\n",
       "                                    Industry             Sector  \\\n",
       "index                                                             \n",
       "0                         Insurance Carriers          Insurance   \n",
       "1                     Research & Development  Business Services   \n",
       "2                                 Consulting  Business Services   \n",
       "3      Electrical & Electronic Manufacturing      Manufacturing   \n",
       "4                    Advertising & Marketing  Business Services   \n",
       "\n",
       "                          Revenue  \\\n",
       "index                               \n",
       "0        Unknown / Non-Applicable   \n",
       "1          $1 to $2 billion (USD)   \n",
       "2      $100 to $500 million (USD)   \n",
       "3      $100 to $500 million (USD)   \n",
       "4        Unknown / Non-Applicable   \n",
       "\n",
       "                                             Competitors  \n",
       "index                                                     \n",
       "0                EmblemHealth, UnitedHealth Group, Aetna  \n",
       "1                                                     -1  \n",
       "2                                                     -1  \n",
       "3      MKS Instruments, Pfeiffer Vacuum, Agilent Tech...  \n",
       "4                   Commerce Signals, Cardlytics, Yodlee  "
      ]
     },
     "execution_count": 32,
     "metadata": {},
     "output_type": "execute_result"
    }
   ],
   "source": [
    "data.head()"
   ]
  },
  {
   "cell_type": "code",
   "execution_count": 33,
   "id": "c9874bee",
   "metadata": {},
   "outputs": [
    {
     "data": {
      "text/plain": [
       "array(['Healthfirst\\n3.1', 'ManTech\\n4.2', 'Analysis Group\\n3.8',\n",
       "       'INFICON\\n3.5', 'Affinity Solutions\\n2.9', 'HG Insights\\n4.2',\n",
       "       'Novartis\\n3.9', 'iRobot\\n3.5', 'Intuit - Data\\n4.4',\n",
       "       'XSELL Technologies\\n3.6', 'Novetta\\n4.5', '1904labs\\n4.7',\n",
       "       'PNNL\\n3.7', 'Old World Industries\\n3.1',\n",
       "       'Mathematica Policy Research\\n3.4',\n",
       "       'Guzman & Griffin Technologies (GGTI)\\n4.4',\n",
       "       'Upside Business Travel\\n4.1', 'Buckman\\n3.5',\n",
       "       'Insight Enterprises, Inc.\\n4.2', 'Tower Health\\n3.5',\n",
       "       'Triplebyte\\n3.2', 'PulsePoint\\n4.3', 'Exponent\\n3.5',\n",
       "       'Guardian Life\\n3.5',\n",
       "       'Spectrum Communications and Consulting\\n3.4',\n",
       "       'Oversight Systems\\n4.7', 'LSQ\\n4.2',\n",
       "       'MIT Lincoln Laboratory\\n3.8', 'Kingfisher Systems\\n4.5',\n",
       "       'Formation\\n2.8', 'Cohere Health\\n5.0', 'Acuity Insurance\\n4.8',\n",
       "       'Chef\\n3.6', 'Puget Sound Energy\\n3.3', 'Sandhills Global\\n2.7',\n",
       "       'A Place for Mom\\n2.7', 'Great-Circle Technologies\\n2.2',\n",
       "       'Edmunds.com\\n3.4', 'Cambridge Associates, LLC\\n3.1',\n",
       "       'Liberty Mutual Insurance\\n3.4', 'Cenlar\\n2.6',\n",
       "       'Arsenal Biosciences\\n5.0', 'Eversight\\n4.2', 'Pfizer\\n4.1',\n",
       "       'Klaviyo\\n4.8', 'Intellectual Ventures\\n3.3', 'GovTech\\n3.7',\n",
       "       'Quick Base\\n4.3', 'Giving Assistant\\n4.8', 'Takeda\\n3.7',\n",
       "       'Netskope\\n4.0', 'IT Concepts\\n4.8', 'iSeatz\\n3.5',\n",
       "       'Summa Health System\\n3.7', 'Benson Hill\\n3.5', 'Twitter\\n4.1',\n",
       "       'Postmates - Corporate HQ\\n3.2', 'Envision LLC\\n4.5',\n",
       "       'Swiss Re\\n3.8', 'Systems & Technology Research\\n4.5',\n",
       "       'Dermalogica\\n3.8', 'Bayview Asset Management\\n3.7',\n",
       "       'Via Transportation\\n3.7', 'Grid Dynamics\\n4.0',\n",
       "       'Tempus Labs\\n3.3', 'CareDx\\n2.5', 'IZEA\\n4.2', 'Autodesk\\n4.0',\n",
       "       'Caterpillar\\n3.7', 'New England Biolabs\\n4.9',\n",
       "       'Allied Solutions\\n3.4', 'The Knot Worldwide\\n3.5',\n",
       "       'IFG Companies\\n2.9', 'Amyris\\n3.3', 'AstraZeneca\\n4.0',\n",
       "       'Powertek\\n3.6', 'Object Partners\\n4.7', 'The Mom Project\\n4.9',\n",
       "       'Lightspeed Systems\\n4.3', 'Stripe\\n4.0',\n",
       "       'Comprehensive Healthcare\\n2.6',\n",
       "       'Fullpower Technologies, Inc.\\n4.5', 'Mars\\n3.9',\n",
       "       'NuWave Solutions\\n4.4', 'Merrick Bank\\n3.6', 'QOMPLX\\n3.5',\n",
       "       'GutCheck\\n3.8', 'Inter-American Development Bank\\n3.5',\n",
       "       'Avlino\\n4.9', 'Stratagem Group\\n4.4', 'Evidation\\n4.1',\n",
       "       'Tecolote Research\\n3.8', 'Tivity Health\\n3.2', 'hc1\\n2.9',\n",
       "       'HP Inc.\\n4.1', 'SAIC\\n3.7', 'AllianceBernstein\\n3.2',\n",
       "       'Big Huge Games\\n4.9', 'Maxar Technologies\\n3.5',\n",
       "       'Phantom AI\\n5.0', 'Noblis\\n4.0', 'Spring Health\\n3.6',\n",
       "       'ClearEdge\\n4.0', 'GetWellNetwork\\n4.8', 'TACG Solutions\\n4.5',\n",
       "       'Scoop\\n4.7', 'Montway Inc\\n3.4', 'Juniper Networks\\n3.8',\n",
       "       'Notion Labs\\n5.0', 'Lendio\\n4.9', 'Direct Agents\\n4.4',\n",
       "       'NAVEX Global\\n3.3', 'Upstart\\n4.2', 'AppLovin\\n4.8',\n",
       "       'ISO New England\\n3.8', 'Relativity\\n3.7', 'Tempo Automation\\n3.3',\n",
       "       'MITRE\\n3.3', 'Expedition Technology, Inc.\\n5.0', 'Evidera\\n3.8',\n",
       "       'Plymouth Rock Assurance\\n3.4', 'Crown Bioscience\\n2.4',\n",
       "       'GNS Healthcare\\n2.9', 'OneMagnify\\n4.4', 'SPECTRUM\\n2.9',\n",
       "       'Advanced BioScience Laboratories\\n2.7',\n",
       "       'Procore Technologies\\n4.2', 'Ritedose\\n3.5',\n",
       "       'Covid-19 Search Partners', 'bioMérieux\\n4.2',\n",
       "       'Radical Convergence', 'Leidos\\n3.5', 'Demandbase\\n4.5',\n",
       "       'Shelter Insurance\\n4.1', 'USAC\\n2.7',\n",
       "       'General Dynamics Information Technology\\n3.4', 'Offerpad\\n4.4',\n",
       "       'Magna International Inc.\\n3.5', 'United BioSource\\n2.3',\n",
       "       'Kelly\\n3.4', 'C3.ai\\n4.7', 'Quartet Health\\n3.9',\n",
       "       'Midland Credit Management\\n3.3',\n",
       "       'Resurgent Capital Services\\n4.4', 'webfx.com\\n4.7',\n",
       "       'Argo Group US\\n3.5', 'BWX Technologies\\n3.3', 'Life360\\n3.9',\n",
       "       'MassMutual\\n3.7', 'Natera\\n3.9', 'Genentech\\n4.0', 'Ntrepid\\n4.2',\n",
       "       'Constant Contact\\n3.6', 'Sage Intacct\\n4.7',\n",
       "       'Shape Security\\n4.1', 'SkillSoniq\\n5.0', 'Joby Aviation\\n4.3',\n",
       "       \"Cook Children's Health Care System\\n3.8\",\n",
       "       'Rubius Therapeutics\\n3.8', 'GreatAmerica Financial Services\\n4.6',\n",
       "       'Coverent\\n4.1', 'Mteq\\n3.7', 'Rocket Lawyer\\n4.4',\n",
       "       'Alion Science & Technology\\n3.6', 'Protolabs\\n3.7',\n",
       "       'Quest Integrity\\n2.9', 'Phoenix Operations Group\\n5.0',\n",
       "       'Dice.com\\n3.4', 'Southwest Research Institute\\n3.9',\n",
       "       'The Buffalo Group\\n4.3',\n",
       "       'Central California Alliance for Health\\n3.5',\n",
       "       'Security Finance Corporation of Spartanburg\\n3.1',\n",
       "       'Opendoor\\n3.6', 'Global Data Management Inc\\n4.5',\n",
       "       'Photon Infotech\\n3.0', 'REE\\n5.0',\n",
       "       'Riverside Research Institute\\n3.6', 'T. Rowe Price\\n3.6',\n",
       "       'Encode, Inc.', 'Brighthouse Financial\\n3.8',\n",
       "       'II-VI Incorporated\\n3.3', 'Surya Systems\\n4.6', 'PayPal\\n3.8',\n",
       "       'Predictive Research Inc\\n3.9', '1010data\\n3.1', 'Gigya\\n3.6',\n",
       "       'Genesis Research\\n5.0', 'Sanofi\\n3.7', 'XPO Logistics\\n3.7',\n",
       "       'Trace Data\\n3.9', 'Descript\\n4.3',\n",
       "       'Rincon Research Corporation\\n4.2', 'Better Hire\\n4.0',\n",
       "       'Parker Hannifin\\n3.3', 'Gallup\\n4.1', 'Insider Inc\\n3.3',\n",
       "       'Rapid Value Solutions\\n3.9', 'Battelle\\n3.1',\n",
       "       'The Drive Media, Inc.\\n5.0',\n",
       "       'Pacific Northwest National Laboratory\\n3.7',\n",
       "       'US Pharmacopeia\\n3.2', 'Itlize Global\\n4.6', 'eBay\\n3.5',\n",
       "       'Paige\\n5.0', 'ABIOMED\\n4.1', 'Comcast\\n3.5',\n",
       "       'Metronome, LLC\\n3.2', 'Lawrence Livermore National Lab\\n4.7',\n",
       "       'FHLBank Pittsburgh\\n3.8', 'Jacobs\\n3.6',\n",
       "       'Underwriters Laboratories\\n3.3', 'Altus Group\\n3.7', 'Jobot\\n5.0',\n",
       "       'Trovetechs Inc', 'Oshkosh Corporation\\n4.2', 'Mackin\\n3.4',\n",
       "       'PETADATA', 'VBeyond Corporation\\n4.4', 'Take-Two\\n3.7',\n",
       "       'Colony Brands\\n3.7', 'Capio Group\\n4.1', 'SleePare\\n3.4',\n",
       "       'ShorePoint\\n4.5', 'Dolphin\\n3.5', 'TE Connectivity\\n3.6',\n",
       "       'State of Virginia\\n3.2', 'TA Digital\\n3.7',\n",
       "       'Market America Inc\\n4.0', 'TrueAccord\\n3.4',\n",
       "       'ALTA IT Services\\n3.9', 'Kollasoft Inc.\\n3.2',\n",
       "       'ASRC Federal Holding Company\\n3.4', 'Adwait Algorithm\\n4.4',\n",
       "       'Cambridge FX\\n3.5', 'Metromile\\n3.8', 'Criteo\\n3.9',\n",
       "       'Advance Sourcing Concepts\\n3.4', 'Enterprise Solutions Inc\\n3.8',\n",
       "       'Microagility', 'Conch Technologies, Inc\\n4.6', 'GSK\\n3.9',\n",
       "       'Rainmaker Resources, LLC', '22nd Century Technologies\\n3.7',\n",
       "       'Huxley\\n3.3', 'FM Systems\\n3.4', 'B4Corp',\n",
       "       'Blue Cross and Blue Shield of North Carolina\\n3.7',\n",
       "       'Jane Street\\n4.8', 'SSATI\\n5.0',\n",
       "       'Solving IT International Inc\\n3.4',\n",
       "       'The Davey Tree Expert Company\\n3.3', 'Centauri\\n4.6',\n",
       "       'Stride Search', 'Software Engineering Institute\\n2.6',\n",
       "       'TechProjects\\n4.8', '7Park Data\\n3.9',\n",
       "       'Ameritas Life Insurance Corp\\n3.0', 'Western Digital\\n3.5',\n",
       "       'Shimento, Inc.\\n2.9', 'Averity\\n5.0', 'Praxis Engineering\\n4.7',\n",
       "       'Point72 Ventures',\n",
       "       'Johns Hopkins University Applied Physics Laboratory\\n4.5',\n",
       "       'Cambridge Mobile Telematics\\n4.9', 'Blend360\\n4.6',\n",
       "       'Nolij Consulting\\n3.9', 'Hatch Data Inc',\n",
       "       'Compass Consulting Group\\n4.7', 'SolutionIT, Inc.\\n4.4',\n",
       "       'Perspecta\\n3.2', 'Smith Hanley Associates\\n4.5',\n",
       "       'Allen Institute\\n3.5', 'Eliassen Group\\n4.4',\n",
       "       'Bayside Solutions\\n3.1', 'Evolve Vacation Rental\\n3.5',\n",
       "       'AgreeYa Solutions\\n3.8', 'Carolina Power & Light Co\\n3.7',\n",
       "       'New Iron Group, Inc.\\n5.0', 'Travelers\\n4.0', 'Twitch\\n3.6',\n",
       "       'Biogen\\n3.6', 'HireAi', 'Mentor Graphics\\n4.1',\n",
       "       'WCG (WIRB-Copernicus Group)\\n3.6',\n",
       "       'Visionary Integration Professionals\\n4.3', 'Dynetics\\n4.0',\n",
       "       'Navy Federal Credit Union\\n3.9',\n",
       "       'Exact Sciences Corporation\\n4.0',\n",
       "       'Community Behavioral Health\\n3.6', 'Reynolds American\\n3.3',\n",
       "       'LifeOmic\\n5.0', 'Visionist, Inc.\\n4.9', 'Navio',\n",
       "       'Concerto HealthAI\\n3.3', 'Evolvinc', 'PROPRIUS\\n5.0',\n",
       "       'TECHNOCRAFT Solutions\\n3.4', 'Latitude, Inc.\\n4.1',\n",
       "       'Royce Geospatial\\n5.0', 'CyberCoders\\n4.2',\n",
       "       'Booz Allen Hamilton Inc.\\n3.7', 'Burns & McDonnell\\n3.8',\n",
       "       'InvenTech Info\\n4.8', 'Robert Half\\n3.5',\n",
       "       'Conflux Systems Inc.\\n4.5', 'Voice\\n3.4',\n",
       "       'Falcon IT & Staffing Solutions', 'DataLab USA\\n3.6',\n",
       "       'Werner Enterprises Inc\\n3.1', 'PeopleCom\\n5.0',\n",
       "       'VANTA Partners\\n5.0', 'Blue Icy Water, LLC',\n",
       "       \"Farmer's Business Network, Inc.\\n3.5\", 'Sonde Health',\n",
       "       'Maxiom\\n5.0', 'Change Healthcare\\n2.7', 'DCS Corp\\n4.1',\n",
       "       'Hive (CA)\\n2.1', 'Hackensack Meridian Health\\n3.3',\n",
       "       'Net2Source Inc.\\n3.2', 'The Trade Desk\\n3.2', 'IBM\\n3.7',\n",
       "       'Knowesis Inc.\\n4.4', 'MoTek Technologies\\n3.1', 'HPOne\\n3.5',\n",
       "       'Blue Cloak LLC', 'TBWA\\\\Chiat\\\\Day\\n2.7',\n",
       "       'ThreeBridge Solutions\\n3.5', 'Numeric, LLC\\n3.2',\n",
       "       'Centraprise\\n4.2', 'DW Simpson\\n4.2', 'LinQuest\\n3.9',\n",
       "       'Trexquant Investment\\n4.0', 'Fleetcor\\n3.7',\n",
       "       'Radiant Digital\\n4.5', 'Child Care Aware of America\\n2.8',\n",
       "       'IntelliPro Group Inc.\\n4.1', 'USI\\n3.4', 'Apex Systems\\n3.9',\n",
       "       'Pragmatics, Inc.\\n2.9', 'Crossover Health\\n3.5',\n",
       "       'Lorven Technologies Inc\\n4.0', 'Gap Inc.\\n3.5',\n",
       "       'Tygart Technology, Inc\\n4.7', 'Murray Resources\\n4.6',\n",
       "       'New York Technology Partners\\n4.0',\n",
       "       'Two95 International Inc.\\n4.0', 'Sophinea', 'CRS Group\\n4.7',\n",
       "       'Blackstone Talent Group\\n3.5', 'Roche\\n4.1',\n",
       "       'Creative Circle\\n3.6', 'Blue Horizon Tek Solutions\\n5.0',\n",
       "       'Sharpedge Solutions Inc\\n4.7',\n",
       "       'Alaka`ina Foundation Family of Companies\\n3.6',\n",
       "       'Hexagon US Federal\\n2.7', 'Monte Rosa Therapeutics',\n",
       "       'Comtech Global Inc\\n4.0', 'Aveshka, Inc.\\n3.8',\n",
       "       '10x Genomics\\n4.2', 'CompuForce', '1-800-Flowers\\n2.7',\n",
       "       'Aptive\\n3.5', 'JCD Staffing\\n5.0', 'Thumbtack\\n3.9',\n",
       "       'MILVETS Systems Technology, Inc.\\n3.4', 'Apple\\n4.1',\n",
       "       'Kforce\\n4.1', 'OppLoans\\n4.4', 'Brillient\\n3.9',\n",
       "       'Xator Corporation\\n2.9', 'HAN IT Staffing Inc.\\n4.6',\n",
       "       'Infinitive Inc\\n3.4', 'New Relic\\n4.7', 'ICW Group\\n3.3',\n",
       "       'NYSTEC\\n3.8', 'E3 Federal Solutions\\n4.5', 'Peraton\\n3.4',\n",
       "       'Group O\\n3.1', 'CaptiveAire\\n4.1', 'Temboo\\n3.9', 'Kibo',\n",
       "       'AeroVironment\\n4.2', 'Applied Research Laboratories\\n3.8',\n",
       "       'Conagen\\n2.0', 'Alector\\n4.8', 'Homology Medicines, Inc.\\n4.4',\n",
       "       'Inland Empire Health Plan\\n3.3',\n",
       "       'Sandia National Laboratories\\n3.8', 'CIA\\n3.8',\n",
       "       'Maven Wave Partners\\n4.5', 'Ovative Group\\n4.3', 'Kognetics\\n3.6',\n",
       "       'Envision Healthcare\\n2.9', 'ConsumerTrack\\n3.2',\n",
       "       'Meridian Knowledge Solutions\\n4.4', 'UST Global\\n4.2',\n",
       "       'IMG Systems\\n3.2', 'Trident Systems Inc\\n3.4', 'GrainBridge, LLC',\n",
       "       'First Health Group\\n3.2', 'Sprezzatura Management Consulting',\n",
       "       'Progress Rail, A Caterpillar Company\\n2.8',\n",
       "       'Axiologic Solutions\\n4.5', 'Indigo Slate\\n3.0', 'Cubic\\n3.3',\n",
       "       'Advanced Bio-Logic Solutions Corp\\n4.0',\n",
       "       'Alignment Healthcare\\n3.5', 'WGSN\\n3.5',\n",
       "       'ISYS Technologies, Inc.\\n3.6', 'TransVoyant\\n3.0', 'Geotab\\n4.3',\n",
       "       'EGlobalTech\\n3.7', 'Central Business Solutions, Inc\\n3.0',\n",
       "       'KeHE Distributors\\n2.5', 'Moxie Software\\n3.0',\n",
       "       'Unicom Technologies INC\\n4.7', 'Americo Life\\n3.3',\n",
       "       'Tokio Marine HCC\\n3.3', 'CACI International\\n3.5',\n",
       "       'Berico Technologies', 'Kehe Food Distributors', 'Pactera Edge',\n",
       "       'Qurate Retail Group\\n3.6', 'A-Line Staffing Solutions\\n4.1',\n",
       "       'Clear Ridge Defense', 'Criterion Systems, Inc.\\n3.8',\n",
       "       'Foundation Medicine\\n4.0', 'TRANZACT\\n3.6', 'JKGT', 'AccessHope',\n",
       "       'ChaTeck Incorporated\\n5.0'], dtype=object)"
      ]
     },
     "execution_count": 33,
     "metadata": {},
     "output_type": "execute_result"
    }
   ],
   "source": [
    "data['Company Name'].unique()"
   ]
  },
  {
   "cell_type": "code",
   "execution_count": 34,
   "id": "64be2f2d",
   "metadata": {},
   "outputs": [],
   "source": [
    "#This method will strip anygiven input string from its numeric,punctuations\n",
    "def clean_name(input):\n",
    "    output=''\n",
    "    for i in input:\n",
    "        if i not in string.whitespace.strip(' ')+string.punctuation+string.digits:\n",
    "            output=output+i\n",
    "    return output"
   ]
  },
  {
   "cell_type": "code",
   "execution_count": 35,
   "id": "0bfe85a7",
   "metadata": {},
   "outputs": [],
   "source": [
    "data['Company Name']=data['Company Name'].apply(lambda x:clean_name(x))"
   ]
  },
  {
   "cell_type": "code",
   "execution_count": 36,
   "id": "9d6899c0",
   "metadata": {},
   "outputs": [
    {
     "data": {
      "text/html": [
       "<div>\n",
       "<style scoped>\n",
       "    .dataframe tbody tr th:only-of-type {\n",
       "        vertical-align: middle;\n",
       "    }\n",
       "\n",
       "    .dataframe tbody tr th {\n",
       "        vertical-align: top;\n",
       "    }\n",
       "\n",
       "    .dataframe thead th {\n",
       "        text-align: right;\n",
       "    }\n",
       "</style>\n",
       "<table border=\"1\" class=\"dataframe\">\n",
       "  <thead>\n",
       "    <tr style=\"text-align: right;\">\n",
       "      <th></th>\n",
       "      <th>Job Title</th>\n",
       "      <th>Salary Estimate</th>\n",
       "      <th>Rating</th>\n",
       "      <th>Company Name</th>\n",
       "      <th>Location</th>\n",
       "      <th>Headquarters</th>\n",
       "      <th>Size</th>\n",
       "      <th>Founded</th>\n",
       "      <th>Type of ownership</th>\n",
       "      <th>Industry</th>\n",
       "      <th>Sector</th>\n",
       "      <th>Revenue</th>\n",
       "      <th>Competitors</th>\n",
       "    </tr>\n",
       "    <tr>\n",
       "      <th>index</th>\n",
       "      <th></th>\n",
       "      <th></th>\n",
       "      <th></th>\n",
       "      <th></th>\n",
       "      <th></th>\n",
       "      <th></th>\n",
       "      <th></th>\n",
       "      <th></th>\n",
       "      <th></th>\n",
       "      <th></th>\n",
       "      <th></th>\n",
       "      <th></th>\n",
       "      <th></th>\n",
       "    </tr>\n",
       "  </thead>\n",
       "  <tbody>\n",
       "    <tr>\n",
       "      <th>0</th>\n",
       "      <td>Sr Data Scientist</td>\n",
       "      <td>154000.00</td>\n",
       "      <td>3.10</td>\n",
       "      <td>Healthfirst</td>\n",
       "      <td>New York, NY</td>\n",
       "      <td>New York, NY</td>\n",
       "      <td>1001 to 5000 employees</td>\n",
       "      <td>1993</td>\n",
       "      <td>Nonprofit Organization</td>\n",
       "      <td>Insurance Carriers</td>\n",
       "      <td>Insurance</td>\n",
       "      <td>Unknown / Non-Applicable</td>\n",
       "      <td>EmblemHealth, UnitedHealth Group, Aetna</td>\n",
       "    </tr>\n",
       "    <tr>\n",
       "      <th>1</th>\n",
       "      <td>Data Scientist</td>\n",
       "      <td>154000.00</td>\n",
       "      <td>4.20</td>\n",
       "      <td>ManTech</td>\n",
       "      <td>Chantilly, VA</td>\n",
       "      <td>Herndon, VA</td>\n",
       "      <td>5001 to 10000 employees</td>\n",
       "      <td>1968</td>\n",
       "      <td>Company - Public</td>\n",
       "      <td>Research &amp; Development</td>\n",
       "      <td>Business Services</td>\n",
       "      <td>$1 to $2 billion (USD)</td>\n",
       "      <td>-1</td>\n",
       "    </tr>\n",
       "    <tr>\n",
       "      <th>2</th>\n",
       "      <td>Data Scientist</td>\n",
       "      <td>154000.00</td>\n",
       "      <td>3.80</td>\n",
       "      <td>Analysis Group</td>\n",
       "      <td>Boston, MA</td>\n",
       "      <td>Boston, MA</td>\n",
       "      <td>1001 to 5000 employees</td>\n",
       "      <td>1981</td>\n",
       "      <td>Private Practice / Firm</td>\n",
       "      <td>Consulting</td>\n",
       "      <td>Business Services</td>\n",
       "      <td>$100 to $500 million (USD)</td>\n",
       "      <td>-1</td>\n",
       "    </tr>\n",
       "    <tr>\n",
       "      <th>3</th>\n",
       "      <td>Data Scientist</td>\n",
       "      <td>154000.00</td>\n",
       "      <td>3.50</td>\n",
       "      <td>INFICON</td>\n",
       "      <td>Newton, MA</td>\n",
       "      <td>Bad Ragaz, Switzerland</td>\n",
       "      <td>501 to 1000 employees</td>\n",
       "      <td>2000</td>\n",
       "      <td>Company - Public</td>\n",
       "      <td>Electrical &amp; Electronic Manufacturing</td>\n",
       "      <td>Manufacturing</td>\n",
       "      <td>$100 to $500 million (USD)</td>\n",
       "      <td>MKS Instruments, Pfeiffer Vacuum, Agilent Tech...</td>\n",
       "    </tr>\n",
       "    <tr>\n",
       "      <th>4</th>\n",
       "      <td>Data Scientist</td>\n",
       "      <td>154000.00</td>\n",
       "      <td>2.90</td>\n",
       "      <td>Affinity Solutions</td>\n",
       "      <td>New York, NY</td>\n",
       "      <td>New York, NY</td>\n",
       "      <td>51 to 200 employees</td>\n",
       "      <td>1998</td>\n",
       "      <td>Company - Private</td>\n",
       "      <td>Advertising &amp; Marketing</td>\n",
       "      <td>Business Services</td>\n",
       "      <td>Unknown / Non-Applicable</td>\n",
       "      <td>Commerce Signals, Cardlytics, Yodlee</td>\n",
       "    </tr>\n",
       "    <tr>\n",
       "      <th>...</th>\n",
       "      <td>...</td>\n",
       "      <td>...</td>\n",
       "      <td>...</td>\n",
       "      <td>...</td>\n",
       "      <td>...</td>\n",
       "      <td>...</td>\n",
       "      <td>...</td>\n",
       "      <td>...</td>\n",
       "      <td>...</td>\n",
       "      <td>...</td>\n",
       "      <td>...</td>\n",
       "      <td>...</td>\n",
       "      <td>...</td>\n",
       "    </tr>\n",
       "    <tr>\n",
       "      <th>667</th>\n",
       "      <td>Data Scientist</td>\n",
       "      <td>136000.00</td>\n",
       "      <td>3.60</td>\n",
       "      <td>TRANZACT</td>\n",
       "      <td>Fort Lee, NJ</td>\n",
       "      <td>Fort Lee, NJ</td>\n",
       "      <td>1001 to 5000 employees</td>\n",
       "      <td>1989</td>\n",
       "      <td>Company - Private</td>\n",
       "      <td>Advertising &amp; Marketing</td>\n",
       "      <td>Business Services</td>\n",
       "      <td>Unknown / Non-Applicable</td>\n",
       "      <td>-1</td>\n",
       "    </tr>\n",
       "    <tr>\n",
       "      <th>668</th>\n",
       "      <td>Data Scientist</td>\n",
       "      <td>136000.00</td>\n",
       "      <td>3.50</td>\n",
       "      <td>JKGT</td>\n",
       "      <td>San Francisco, CA</td>\n",
       "      <td>-1</td>\n",
       "      <td>-1</td>\n",
       "      <td>-1</td>\n",
       "      <td>-1</td>\n",
       "      <td>-1</td>\n",
       "      <td>-1</td>\n",
       "      <td>-1</td>\n",
       "      <td>-1</td>\n",
       "    </tr>\n",
       "    <tr>\n",
       "      <th>669</th>\n",
       "      <td>Data Scientist</td>\n",
       "      <td>136000.00</td>\n",
       "      <td>3.50</td>\n",
       "      <td>AccessHope</td>\n",
       "      <td>Irwindale, CA</td>\n",
       "      <td>-1</td>\n",
       "      <td>-1</td>\n",
       "      <td>-1</td>\n",
       "      <td>-1</td>\n",
       "      <td>-1</td>\n",
       "      <td>-1</td>\n",
       "      <td>-1</td>\n",
       "      <td>-1</td>\n",
       "    </tr>\n",
       "    <tr>\n",
       "      <th>670</th>\n",
       "      <td>Data Scientist</td>\n",
       "      <td>136000.00</td>\n",
       "      <td>5.00</td>\n",
       "      <td>ChaTeck Incorporated</td>\n",
       "      <td>San Francisco, CA</td>\n",
       "      <td>Santa Clara, CA</td>\n",
       "      <td>1 to 50 employees</td>\n",
       "      <td>-1</td>\n",
       "      <td>Company - Private</td>\n",
       "      <td>Advertising &amp; Marketing</td>\n",
       "      <td>Business Services</td>\n",
       "      <td>$1 to $5 million (USD)</td>\n",
       "      <td>-1</td>\n",
       "    </tr>\n",
       "    <tr>\n",
       "      <th>671</th>\n",
       "      <td>Data Scientist</td>\n",
       "      <td>136000.00</td>\n",
       "      <td>2.70</td>\n",
       "      <td>Flowers</td>\n",
       "      <td>New York, NY</td>\n",
       "      <td>Carle Place, NY</td>\n",
       "      <td>1001 to 5000 employees</td>\n",
       "      <td>1976</td>\n",
       "      <td>Company - Public</td>\n",
       "      <td>Wholesale</td>\n",
       "      <td>Business Services</td>\n",
       "      <td>$1 to $2 billion (USD)</td>\n",
       "      <td>-1</td>\n",
       "    </tr>\n",
       "  </tbody>\n",
       "</table>\n",
       "<p>672 rows × 13 columns</p>\n",
       "</div>"
      ],
      "text/plain": [
       "               Job Title  Salary Estimate  Rating          Company Name  \\\n",
       "index                                                                     \n",
       "0      Sr Data Scientist        154000.00    3.10           Healthfirst   \n",
       "1         Data Scientist        154000.00    4.20               ManTech   \n",
       "2         Data Scientist        154000.00    3.80        Analysis Group   \n",
       "3         Data Scientist        154000.00    3.50               INFICON   \n",
       "4         Data Scientist        154000.00    2.90    Affinity Solutions   \n",
       "...                  ...              ...     ...                   ...   \n",
       "667       Data Scientist        136000.00    3.60              TRANZACT   \n",
       "668       Data Scientist        136000.00    3.50                  JKGT   \n",
       "669       Data Scientist        136000.00    3.50            AccessHope   \n",
       "670       Data Scientist        136000.00    5.00  ChaTeck Incorporated   \n",
       "671       Data Scientist        136000.00    2.70               Flowers   \n",
       "\n",
       "                Location            Headquarters                     Size  \\\n",
       "index                                                                       \n",
       "0           New York, NY            New York, NY   1001 to 5000 employees   \n",
       "1          Chantilly, VA             Herndon, VA  5001 to 10000 employees   \n",
       "2             Boston, MA              Boston, MA   1001 to 5000 employees   \n",
       "3             Newton, MA  Bad Ragaz, Switzerland    501 to 1000 employees   \n",
       "4           New York, NY            New York, NY      51 to 200 employees   \n",
       "...                  ...                     ...                      ...   \n",
       "667         Fort Lee, NJ            Fort Lee, NJ   1001 to 5000 employees   \n",
       "668    San Francisco, CA                      -1                       -1   \n",
       "669        Irwindale, CA                      -1                       -1   \n",
       "670    San Francisco, CA         Santa Clara, CA        1 to 50 employees   \n",
       "671         New York, NY         Carle Place, NY   1001 to 5000 employees   \n",
       "\n",
       "       Founded        Type of ownership  \\\n",
       "index                                     \n",
       "0         1993   Nonprofit Organization   \n",
       "1         1968         Company - Public   \n",
       "2         1981  Private Practice / Firm   \n",
       "3         2000         Company - Public   \n",
       "4         1998        Company - Private   \n",
       "...        ...                      ...   \n",
       "667       1989        Company - Private   \n",
       "668         -1                       -1   \n",
       "669         -1                       -1   \n",
       "670         -1        Company - Private   \n",
       "671       1976         Company - Public   \n",
       "\n",
       "                                    Industry             Sector  \\\n",
       "index                                                             \n",
       "0                         Insurance Carriers          Insurance   \n",
       "1                     Research & Development  Business Services   \n",
       "2                                 Consulting  Business Services   \n",
       "3      Electrical & Electronic Manufacturing      Manufacturing   \n",
       "4                    Advertising & Marketing  Business Services   \n",
       "...                                      ...                ...   \n",
       "667                  Advertising & Marketing  Business Services   \n",
       "668                                       -1                 -1   \n",
       "669                                       -1                 -1   \n",
       "670                  Advertising & Marketing  Business Services   \n",
       "671                                Wholesale  Business Services   \n",
       "\n",
       "                          Revenue  \\\n",
       "index                               \n",
       "0        Unknown / Non-Applicable   \n",
       "1          $1 to $2 billion (USD)   \n",
       "2      $100 to $500 million (USD)   \n",
       "3      $100 to $500 million (USD)   \n",
       "4        Unknown / Non-Applicable   \n",
       "...                           ...   \n",
       "667      Unknown / Non-Applicable   \n",
       "668                            -1   \n",
       "669                            -1   \n",
       "670        $1 to $5 million (USD)   \n",
       "671        $1 to $2 billion (USD)   \n",
       "\n",
       "                                             Competitors  \n",
       "index                                                     \n",
       "0                EmblemHealth, UnitedHealth Group, Aetna  \n",
       "1                                                     -1  \n",
       "2                                                     -1  \n",
       "3      MKS Instruments, Pfeiffer Vacuum, Agilent Tech...  \n",
       "4                   Commerce Signals, Cardlytics, Yodlee  \n",
       "...                                                  ...  \n",
       "667                                                   -1  \n",
       "668                                                   -1  \n",
       "669                                                   -1  \n",
       "670                                                   -1  \n",
       "671                                                   -1  \n",
       "\n",
       "[672 rows x 13 columns]"
      ]
     },
     "execution_count": 36,
     "metadata": {},
     "output_type": "execute_result"
    }
   ],
   "source": [
    "data"
   ]
  },
  {
   "cell_type": "markdown",
   "id": "546d1b19",
   "metadata": {},
   "source": [
    "### Location"
   ]
  },
  {
   "cell_type": "markdown",
   "id": "11fd7b16",
   "metadata": {},
   "source": [
    "it seems we can replace this made up names ('state,postal'), just by the postal abbreviation"
   ]
  },
  {
   "cell_type": "code",
   "execution_count": 37,
   "id": "7e6e8874",
   "metadata": {},
   "outputs": [
    {
     "data": {
      "text/plain": [
       "0"
      ]
     },
     "execution_count": 37,
     "metadata": {},
     "output_type": "execute_result"
    }
   ],
   "source": [
    "data['Location'].isna().sum() #No nan values"
   ]
  },
  {
   "cell_type": "code",
   "execution_count": 38,
   "id": "c7fcdf65",
   "metadata": {},
   "outputs": [
    {
     "data": {
      "text/plain": [
       "0"
      ]
     },
     "execution_count": 38,
     "metadata": {},
     "output_type": "execute_result"
    }
   ],
   "source": [
    "data[data['Location']==-1].shape[0]"
   ]
  },
  {
   "cell_type": "code",
   "execution_count": 39,
   "id": "8d56c08e",
   "metadata": {},
   "outputs": [],
   "source": [
    "#states with it's corresponding postal abbreviations\n",
    "us_states = {\n",
    "    \"Alabama\": \"AL\",\n",
    "    \"Alaska\": \"AK\",\n",
    "    \"Arizona\": \"AZ\",\n",
    "    \"Arkansas\": \"AR\",\n",
    "    \"California\": \"CA\",\n",
    "    \"Colorado\": \"CO\",\n",
    "    \"Connecticut\": \"CT\",\n",
    "    \"Delaware\": \"DE\",\n",
    "    \"Florida\": \"FL\",\n",
    "    \"Georgia\": \"GA\",\n",
    "    \"Hawaii\": \"HI\",\n",
    "    \"Idaho\": \"ID\",\n",
    "    \"Illinois\": \"IL\",\n",
    "    \"Indiana\": \"IN\",\n",
    "    \"Iowa\": \"IA\",\n",
    "    \"Kansas\": \"KS\",\n",
    "    \"Kentucky\": \"KY\",\n",
    "    \"Louisiana\": \"LA\",\n",
    "    \"Maine\": \"ME\",\n",
    "    \"Maryland\": \"MD\",\n",
    "    \"Massachusetts\": \"MA\",\n",
    "    \"Michigan\": \"MI\",\n",
    "    \"Minnesota\": \"MN\",\n",
    "    \"Mississippi\": \"MS\",\n",
    "    \"Missouri\": \"MO\",\n",
    "    \"Montana\": \"MT\",\n",
    "    \"Nebraska\": \"NE\",\n",
    "    \"Nevada\": \"NV\",\n",
    "    \"New Hampshire\": \"NH\",\n",
    "    \"New Jersey\": \"NJ\",\n",
    "    \"New Mexico\": \"NM\",\n",
    "    \"New York\": \"NY\",\n",
    "    \"North Carolina\": \"NC\",\n",
    "    \"North Dakota\": \"ND\",\n",
    "    \"Ohio\": \"OH\",\n",
    "    \"Oklahoma\": \"OK\",\n",
    "    \"Oregon\": \"OR\",\n",
    "    \"Pennsylvania\": \"PA\",\n",
    "    \"Rhode Island\": \"RI\",\n",
    "    \"South Carolina\": \"SC\",\n",
    "    \"South Dakota\": \"SD\",\n",
    "    \"Tennessee\": \"TN\",\n",
    "    \"Texas\": \"TX\",\n",
    "    \"Utah\": \"UT\",\n",
    "    \"Vermont\": \"VT\",\n",
    "    \"Virginia\": \"VA\",\n",
    "    \"Washington\": \"WA\",\n",
    "    \"West Virginia\": \"WV\",\n",
    "    \"Wisconsin\": \"WI\",\n",
    "    \"Wyoming\": \"WY\",\n",
    "    \"Washington\":\"DC\",\n",
    "     \"Richland\":\"WA\",\n",
    "    \"United States\":\"US\",\n",
    "    \"Remote\":\"RE\"\n",
    "}"
   ]
  },
  {
   "cell_type": "code",
   "execution_count": 40,
   "id": "ebb90350",
   "metadata": {},
   "outputs": [],
   "source": [
    "def location_tweak(input):\n",
    "    if input[-2:] in us_states.values():\n",
    "        return input[-2:]\n",
    "    else :\n",
    "        try :\n",
    "            return us_states[input] #counting for else cases\n",
    "        except KeyError:\n",
    "            return input"
   ]
  },
  {
   "cell_type": "code",
   "execution_count": 41,
   "id": "619e413d",
   "metadata": {},
   "outputs": [],
   "source": [
    "data['Location']=data['Location'].apply(lambda x:location_tweak(x))"
   ]
  },
  {
   "cell_type": "code",
   "execution_count": 42,
   "id": "d51875fe",
   "metadata": {},
   "outputs": [
    {
     "data": {
      "text/plain": [
       "array(['NY', 'VA', 'MA', 'CA', 'IL', 'MO', 'WA', 'DC', 'RE', 'TN', 'TX',\n",
       "       'PA', 'AZ', 'WI', 'GA', 'FL', 'US', 'NE', 'KS', 'NH', 'NJ', 'LA',\n",
       "       'OH', 'IN', 'MD', 'CO', 'UT', 'OR', 'MI', 'SC', 'MS', 'AL', 'RI',\n",
       "       'IA', 'MN', 'OK', 'CT', 'NC', 'DE', 'WV'], dtype=object)"
      ]
     },
     "execution_count": 42,
     "metadata": {},
     "output_type": "execute_result"
    }
   ],
   "source": [
    "data['Location'].unique()"
   ]
  },
  {
   "cell_type": "code",
   "execution_count": 43,
   "id": "7d43c301",
   "metadata": {},
   "outputs": [
    {
     "data": {
      "text/html": [
       "<div>\n",
       "<style scoped>\n",
       "    .dataframe tbody tr th:only-of-type {\n",
       "        vertical-align: middle;\n",
       "    }\n",
       "\n",
       "    .dataframe tbody tr th {\n",
       "        vertical-align: top;\n",
       "    }\n",
       "\n",
       "    .dataframe thead th {\n",
       "        text-align: right;\n",
       "    }\n",
       "</style>\n",
       "<table border=\"1\" class=\"dataframe\">\n",
       "  <thead>\n",
       "    <tr style=\"text-align: right;\">\n",
       "      <th></th>\n",
       "      <th>Job Title</th>\n",
       "      <th>Salary Estimate</th>\n",
       "      <th>Rating</th>\n",
       "      <th>Company Name</th>\n",
       "      <th>Location</th>\n",
       "      <th>Headquarters</th>\n",
       "      <th>Size</th>\n",
       "      <th>Founded</th>\n",
       "      <th>Type of ownership</th>\n",
       "      <th>Industry</th>\n",
       "      <th>Sector</th>\n",
       "      <th>Revenue</th>\n",
       "      <th>Competitors</th>\n",
       "    </tr>\n",
       "    <tr>\n",
       "      <th>index</th>\n",
       "      <th></th>\n",
       "      <th></th>\n",
       "      <th></th>\n",
       "      <th></th>\n",
       "      <th></th>\n",
       "      <th></th>\n",
       "      <th></th>\n",
       "      <th></th>\n",
       "      <th></th>\n",
       "      <th></th>\n",
       "      <th></th>\n",
       "      <th></th>\n",
       "      <th></th>\n",
       "    </tr>\n",
       "  </thead>\n",
       "  <tbody>\n",
       "    <tr>\n",
       "      <th>0</th>\n",
       "      <td>Sr Data Scientist</td>\n",
       "      <td>154000.00</td>\n",
       "      <td>3.10</td>\n",
       "      <td>Healthfirst</td>\n",
       "      <td>NY</td>\n",
       "      <td>New York, NY</td>\n",
       "      <td>1001 to 5000 employees</td>\n",
       "      <td>1993</td>\n",
       "      <td>Nonprofit Organization</td>\n",
       "      <td>Insurance Carriers</td>\n",
       "      <td>Insurance</td>\n",
       "      <td>Unknown / Non-Applicable</td>\n",
       "      <td>EmblemHealth, UnitedHealth Group, Aetna</td>\n",
       "    </tr>\n",
       "    <tr>\n",
       "      <th>1</th>\n",
       "      <td>Data Scientist</td>\n",
       "      <td>154000.00</td>\n",
       "      <td>4.20</td>\n",
       "      <td>ManTech</td>\n",
       "      <td>VA</td>\n",
       "      <td>Herndon, VA</td>\n",
       "      <td>5001 to 10000 employees</td>\n",
       "      <td>1968</td>\n",
       "      <td>Company - Public</td>\n",
       "      <td>Research &amp; Development</td>\n",
       "      <td>Business Services</td>\n",
       "      <td>$1 to $2 billion (USD)</td>\n",
       "      <td>-1</td>\n",
       "    </tr>\n",
       "    <tr>\n",
       "      <th>2</th>\n",
       "      <td>Data Scientist</td>\n",
       "      <td>154000.00</td>\n",
       "      <td>3.80</td>\n",
       "      <td>Analysis Group</td>\n",
       "      <td>MA</td>\n",
       "      <td>Boston, MA</td>\n",
       "      <td>1001 to 5000 employees</td>\n",
       "      <td>1981</td>\n",
       "      <td>Private Practice / Firm</td>\n",
       "      <td>Consulting</td>\n",
       "      <td>Business Services</td>\n",
       "      <td>$100 to $500 million (USD)</td>\n",
       "      <td>-1</td>\n",
       "    </tr>\n",
       "    <tr>\n",
       "      <th>3</th>\n",
       "      <td>Data Scientist</td>\n",
       "      <td>154000.00</td>\n",
       "      <td>3.50</td>\n",
       "      <td>INFICON</td>\n",
       "      <td>MA</td>\n",
       "      <td>Bad Ragaz, Switzerland</td>\n",
       "      <td>501 to 1000 employees</td>\n",
       "      <td>2000</td>\n",
       "      <td>Company - Public</td>\n",
       "      <td>Electrical &amp; Electronic Manufacturing</td>\n",
       "      <td>Manufacturing</td>\n",
       "      <td>$100 to $500 million (USD)</td>\n",
       "      <td>MKS Instruments, Pfeiffer Vacuum, Agilent Tech...</td>\n",
       "    </tr>\n",
       "    <tr>\n",
       "      <th>4</th>\n",
       "      <td>Data Scientist</td>\n",
       "      <td>154000.00</td>\n",
       "      <td>2.90</td>\n",
       "      <td>Affinity Solutions</td>\n",
       "      <td>NY</td>\n",
       "      <td>New York, NY</td>\n",
       "      <td>51 to 200 employees</td>\n",
       "      <td>1998</td>\n",
       "      <td>Company - Private</td>\n",
       "      <td>Advertising &amp; Marketing</td>\n",
       "      <td>Business Services</td>\n",
       "      <td>Unknown / Non-Applicable</td>\n",
       "      <td>Commerce Signals, Cardlytics, Yodlee</td>\n",
       "    </tr>\n",
       "    <tr>\n",
       "      <th>...</th>\n",
       "      <td>...</td>\n",
       "      <td>...</td>\n",
       "      <td>...</td>\n",
       "      <td>...</td>\n",
       "      <td>...</td>\n",
       "      <td>...</td>\n",
       "      <td>...</td>\n",
       "      <td>...</td>\n",
       "      <td>...</td>\n",
       "      <td>...</td>\n",
       "      <td>...</td>\n",
       "      <td>...</td>\n",
       "      <td>...</td>\n",
       "    </tr>\n",
       "    <tr>\n",
       "      <th>667</th>\n",
       "      <td>Data Scientist</td>\n",
       "      <td>136000.00</td>\n",
       "      <td>3.60</td>\n",
       "      <td>TRANZACT</td>\n",
       "      <td>NJ</td>\n",
       "      <td>Fort Lee, NJ</td>\n",
       "      <td>1001 to 5000 employees</td>\n",
       "      <td>1989</td>\n",
       "      <td>Company - Private</td>\n",
       "      <td>Advertising &amp; Marketing</td>\n",
       "      <td>Business Services</td>\n",
       "      <td>Unknown / Non-Applicable</td>\n",
       "      <td>-1</td>\n",
       "    </tr>\n",
       "    <tr>\n",
       "      <th>668</th>\n",
       "      <td>Data Scientist</td>\n",
       "      <td>136000.00</td>\n",
       "      <td>3.50</td>\n",
       "      <td>JKGT</td>\n",
       "      <td>CA</td>\n",
       "      <td>-1</td>\n",
       "      <td>-1</td>\n",
       "      <td>-1</td>\n",
       "      <td>-1</td>\n",
       "      <td>-1</td>\n",
       "      <td>-1</td>\n",
       "      <td>-1</td>\n",
       "      <td>-1</td>\n",
       "    </tr>\n",
       "    <tr>\n",
       "      <th>669</th>\n",
       "      <td>Data Scientist</td>\n",
       "      <td>136000.00</td>\n",
       "      <td>3.50</td>\n",
       "      <td>AccessHope</td>\n",
       "      <td>CA</td>\n",
       "      <td>-1</td>\n",
       "      <td>-1</td>\n",
       "      <td>-1</td>\n",
       "      <td>-1</td>\n",
       "      <td>-1</td>\n",
       "      <td>-1</td>\n",
       "      <td>-1</td>\n",
       "      <td>-1</td>\n",
       "    </tr>\n",
       "    <tr>\n",
       "      <th>670</th>\n",
       "      <td>Data Scientist</td>\n",
       "      <td>136000.00</td>\n",
       "      <td>5.00</td>\n",
       "      <td>ChaTeck Incorporated</td>\n",
       "      <td>CA</td>\n",
       "      <td>Santa Clara, CA</td>\n",
       "      <td>1 to 50 employees</td>\n",
       "      <td>-1</td>\n",
       "      <td>Company - Private</td>\n",
       "      <td>Advertising &amp; Marketing</td>\n",
       "      <td>Business Services</td>\n",
       "      <td>$1 to $5 million (USD)</td>\n",
       "      <td>-1</td>\n",
       "    </tr>\n",
       "    <tr>\n",
       "      <th>671</th>\n",
       "      <td>Data Scientist</td>\n",
       "      <td>136000.00</td>\n",
       "      <td>2.70</td>\n",
       "      <td>Flowers</td>\n",
       "      <td>NY</td>\n",
       "      <td>Carle Place, NY</td>\n",
       "      <td>1001 to 5000 employees</td>\n",
       "      <td>1976</td>\n",
       "      <td>Company - Public</td>\n",
       "      <td>Wholesale</td>\n",
       "      <td>Business Services</td>\n",
       "      <td>$1 to $2 billion (USD)</td>\n",
       "      <td>-1</td>\n",
       "    </tr>\n",
       "  </tbody>\n",
       "</table>\n",
       "<p>672 rows × 13 columns</p>\n",
       "</div>"
      ],
      "text/plain": [
       "               Job Title  Salary Estimate  Rating          Company Name  \\\n",
       "index                                                                     \n",
       "0      Sr Data Scientist        154000.00    3.10           Healthfirst   \n",
       "1         Data Scientist        154000.00    4.20               ManTech   \n",
       "2         Data Scientist        154000.00    3.80        Analysis Group   \n",
       "3         Data Scientist        154000.00    3.50               INFICON   \n",
       "4         Data Scientist        154000.00    2.90    Affinity Solutions   \n",
       "...                  ...              ...     ...                   ...   \n",
       "667       Data Scientist        136000.00    3.60              TRANZACT   \n",
       "668       Data Scientist        136000.00    3.50                  JKGT   \n",
       "669       Data Scientist        136000.00    3.50            AccessHope   \n",
       "670       Data Scientist        136000.00    5.00  ChaTeck Incorporated   \n",
       "671       Data Scientist        136000.00    2.70               Flowers   \n",
       "\n",
       "      Location            Headquarters                     Size  Founded  \\\n",
       "index                                                                      \n",
       "0           NY            New York, NY   1001 to 5000 employees     1993   \n",
       "1           VA             Herndon, VA  5001 to 10000 employees     1968   \n",
       "2           MA              Boston, MA   1001 to 5000 employees     1981   \n",
       "3           MA  Bad Ragaz, Switzerland    501 to 1000 employees     2000   \n",
       "4           NY            New York, NY      51 to 200 employees     1998   \n",
       "...        ...                     ...                      ...      ...   \n",
       "667         NJ            Fort Lee, NJ   1001 to 5000 employees     1989   \n",
       "668         CA                      -1                       -1       -1   \n",
       "669         CA                      -1                       -1       -1   \n",
       "670         CA         Santa Clara, CA        1 to 50 employees       -1   \n",
       "671         NY         Carle Place, NY   1001 to 5000 employees     1976   \n",
       "\n",
       "             Type of ownership                               Industry  \\\n",
       "index                                                                   \n",
       "0       Nonprofit Organization                     Insurance Carriers   \n",
       "1             Company - Public                 Research & Development   \n",
       "2      Private Practice / Firm                             Consulting   \n",
       "3             Company - Public  Electrical & Electronic Manufacturing   \n",
       "4            Company - Private                Advertising & Marketing   \n",
       "...                        ...                                    ...   \n",
       "667          Company - Private                Advertising & Marketing   \n",
       "668                         -1                                     -1   \n",
       "669                         -1                                     -1   \n",
       "670          Company - Private                Advertising & Marketing   \n",
       "671           Company - Public                              Wholesale   \n",
       "\n",
       "                  Sector                     Revenue  \\\n",
       "index                                                  \n",
       "0              Insurance    Unknown / Non-Applicable   \n",
       "1      Business Services      $1 to $2 billion (USD)   \n",
       "2      Business Services  $100 to $500 million (USD)   \n",
       "3          Manufacturing  $100 to $500 million (USD)   \n",
       "4      Business Services    Unknown / Non-Applicable   \n",
       "...                  ...                         ...   \n",
       "667    Business Services    Unknown / Non-Applicable   \n",
       "668                   -1                          -1   \n",
       "669                   -1                          -1   \n",
       "670    Business Services      $1 to $5 million (USD)   \n",
       "671    Business Services      $1 to $2 billion (USD)   \n",
       "\n",
       "                                             Competitors  \n",
       "index                                                     \n",
       "0                EmblemHealth, UnitedHealth Group, Aetna  \n",
       "1                                                     -1  \n",
       "2                                                     -1  \n",
       "3      MKS Instruments, Pfeiffer Vacuum, Agilent Tech...  \n",
       "4                   Commerce Signals, Cardlytics, Yodlee  \n",
       "...                                                  ...  \n",
       "667                                                   -1  \n",
       "668                                                   -1  \n",
       "669                                                   -1  \n",
       "670                                                   -1  \n",
       "671                                                   -1  \n",
       "\n",
       "[672 rows x 13 columns]"
      ]
     },
     "execution_count": 43,
     "metadata": {},
     "output_type": "execute_result"
    }
   ],
   "source": [
    "data"
   ]
  },
  {
   "cell_type": "markdown",
   "id": "344ec326",
   "metadata": {},
   "source": [
    "### HeadQuarters"
   ]
  },
  {
   "cell_type": "markdown",
   "id": "fb959f3c",
   "metadata": {},
   "source": [
    "In practice we use api's to fill missing headquarters based on loc , but for now\n",
    "WILL fill missing elements with companyName + Location"
   ]
  },
  {
   "cell_type": "code",
   "execution_count": 44,
   "id": "e6305e16",
   "metadata": {},
   "outputs": [
    {
     "data": {
      "text/plain": [
       "31"
      ]
     },
     "execution_count": 44,
     "metadata": {},
     "output_type": "execute_result"
    }
   ],
   "source": [
    "data[data['Headquarters']=='-1'].shape[0] #We Have 31 missing Values"
   ]
  },
  {
   "cell_type": "code",
   "execution_count": 45,
   "id": "eb0adf33",
   "metadata": {},
   "outputs": [],
   "source": [
    "def headquarters_fill(x):\n",
    "    if x['Headquarters'] == '-1':\n",
    "        return x['Company Name']+', '+x['Location']\n",
    "    else:\n",
    "        return x['Headquarters']"
   ]
  },
  {
   "cell_type": "code",
   "execution_count": 46,
   "id": "8de2d36f",
   "metadata": {},
   "outputs": [],
   "source": [
    "data['Headquarters']=data.apply(headquarters_fill,axis=1)"
   ]
  },
  {
   "cell_type": "markdown",
   "id": "b92f0955",
   "metadata": {},
   "source": [
    "### Size"
   ]
  },
  {
   "cell_type": "code",
   "execution_count": 47,
   "id": "13458e9f",
   "metadata": {},
   "outputs": [
    {
     "data": {
      "text/plain": [
       "'Will set grades for each category and will assume unkowns are same as missings\\n {+10k:A\\n 5k-10k:B\\n 1k-5k:C\\n 501-1k:D\\n 201-500:E\\n 51-200:F\\n 1-50:G\\n -1/Ukn:H }\\n '"
      ]
     },
     "execution_count": 47,
     "metadata": {},
     "output_type": "execute_result"
    }
   ],
   "source": [
    "'''Will set grades for each category and will assume unkowns are same as missings\n",
    " {+10k:A\n",
    " 5k-10k:B\n",
    " 1k-5k:C\n",
    " 501-1k:D\n",
    " 201-500:E\n",
    " 51-200:F\n",
    " 1-50:G\n",
    " -1/Ukn:H }\n",
    " '''"
   ]
  },
  {
   "cell_type": "code",
   "execution_count": 48,
   "id": "5a479322",
   "metadata": {},
   "outputs": [
    {
     "data": {
      "text/plain": [
       "0"
      ]
     },
     "execution_count": 48,
     "metadata": {},
     "output_type": "execute_result"
    }
   ],
   "source": [
    "data['Size'].isna().sum() #No nan But we have unkowns + -1 ' ie missing elements'"
   ]
  },
  {
   "cell_type": "code",
   "execution_count": 49,
   "id": "5b523b65",
   "metadata": {},
   "outputs": [
    {
     "data": {
      "text/plain": [
       "array(['1001 to 5000 employees', '5001 to 10000 employees',\n",
       "       '501 to 1000 employees', '51 to 200 employees', '10000+ employees',\n",
       "       '201 to 500 employees', '1 to 50 employees', '-1', 'Unknown'],\n",
       "      dtype=object)"
      ]
     },
     "execution_count": 49,
     "metadata": {},
     "output_type": "execute_result"
    }
   ],
   "source": [
    "data['Size'].unique()"
   ]
  },
  {
   "cell_type": "code",
   "execution_count": 50,
   "id": "cdac48b7",
   "metadata": {},
   "outputs": [],
   "source": [
    "company_size={'10000+ employees':'A',\n",
    "            '5001 to 10000 employees':'B',\n",
    "             '1001 to 5000 employees':'C',\n",
    "             '501 to 1000 employees':'D',\n",
    "             '201 to 500 employees':'E',\n",
    "             '51 to 200 employees':'F',\n",
    "             '1 to 50 employees':'G'\n",
    "             }"
   ]
  },
  {
   "cell_type": "code",
   "execution_count": 51,
   "id": "3e861011",
   "metadata": {},
   "outputs": [],
   "source": [
    "data['Size']=data['Size'].apply(lambda x:company_size[x] if x in company_size.keys() else 'H')"
   ]
  },
  {
   "cell_type": "code",
   "execution_count": 52,
   "id": "835ebcda",
   "metadata": {},
   "outputs": [
    {
     "name": "stdout",
     "output_type": "stream",
     "text": [
      "<class 'pandas.core.frame.DataFrame'>\n",
      "Int64Index: 672 entries, 0 to 671\n",
      "Data columns (total 13 columns):\n",
      " #   Column             Non-Null Count  Dtype  \n",
      "---  ------             --------------  -----  \n",
      " 0   Job Title          672 non-null    object \n",
      " 1   Salary Estimate    672 non-null    float64\n",
      " 2   Rating             672 non-null    float64\n",
      " 3   Company Name       672 non-null    object \n",
      " 4   Location           672 non-null    object \n",
      " 5   Headquarters       672 non-null    object \n",
      " 6   Size               672 non-null    object \n",
      " 7   Founded            672 non-null    int64  \n",
      " 8   Type of ownership  672 non-null    object \n",
      " 9   Industry           672 non-null    object \n",
      " 10  Sector             672 non-null    object \n",
      " 11  Revenue            672 non-null    object \n",
      " 12  Competitors        672 non-null    object \n",
      "dtypes: float64(2), int64(1), object(10)\n",
      "memory usage: 73.5+ KB\n"
     ]
    }
   ],
   "source": [
    "data.info()"
   ]
  },
  {
   "cell_type": "markdown",
   "id": "7af488cd",
   "metadata": {},
   "source": [
    "### Rest of the columns"
   ]
  },
  {
   "cell_type": "markdown",
   "id": "ef71f4b5",
   "metadata": {},
   "source": [
    "Just like headquarters , these columns requires an api to fill missing elements  based on company name ,\n",
    "will skip this for now ."
   ]
  },
  {
   "cell_type": "code",
   "execution_count": null,
   "id": "6373da65",
   "metadata": {},
   "outputs": [],
   "source": []
  }
 ],
 "metadata": {
  "kernelspec": {
   "display_name": "Python 3 (ipykernel)",
   "language": "python",
   "name": "python3"
  },
  "language_info": {
   "codemirror_mode": {
    "name": "ipython",
    "version": 3
   },
   "file_extension": ".py",
   "mimetype": "text/x-python",
   "name": "python",
   "nbconvert_exporter": "python",
   "pygments_lexer": "ipython3",
   "version": "3.11.4"
  }
 },
 "nbformat": 4,
 "nbformat_minor": 5
}
